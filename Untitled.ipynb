{
 "cells": [
  {
   "cell_type": "code",
   "execution_count": null,
   "id": "756d7cdf",
   "metadata": {},
   "outputs": [],
   "source": [
    "import joblib\n",
    "from tensorflow.keras.models import load_model\n",
    "import numpy as np\n",
    "\n",
    "# Load the saved model\n",
    "#f'Knowledge/{self.problem_type}/{self.source}/{self.file_name}/models/RFC_model_{self.target_variable}.joblib\n",
    "model = load_model('Knowledge/time series/xls/Combined_combined_data.csv/models/LSTM_model_BG.h5')\n",
    "\n",
    "# Load the scaler\n",
    "scaler = joblib.load('Knowledge/time series/xls/Combined_combined_data.csv/models/scaler_x.pkl')\n",
    "\n",
    "# Assuming you have a new_data array for prediction\n",
    "# Define the data point\n",
    "Unnamed = 0\n",
    "time = \"10/25/2023 6:00\"\n",
    "bg = 126.0139434\n",
    "cgm = 136.4350328\n",
    "cho = 0\n",
    "insulin = 0.013933333\n",
    "lbgi = 0\n",
    "hbgi = 0.446600306\n",
    "risk = 0.446600306\n",
    "patient = \"adolescent\"\n",
    "\n",
    "# Fill in the new_data array\n",
    "new_data = np.array([\n",
    "    [Unnamed,bg, cgm, cho, insulin, lbgi, hbgi, risk]  # Assuming this represents one time step\n",
    "])\n",
    "\n",
    "# Scale the new data\n",
    "scaled_new_data = scaler.transform(new_data)\n",
    "\n",
    "# Reshape the data to match the input shape of the LSTM model\n",
    "sequence_length = 5 # Set this to the sequence length used during training\n",
    "num_features =len(df.columns)  # Set this to the number of features used during training\n",
    "X_data = []\n",
    "for i in range(len(scaled_new_data) - sequence_length):\n",
    "    X_data.append(scaled_new_data[i:(i + sequence_length), :-1])\n",
    "X_data = np.array(X_data)\n",
    "\n",
    "# Make predictions\n",
    "predictions = model.predict(X_data)\n",
    "\n",
    "print(predictions)\n"
   ]
  },
  {
   "cell_type": "code",
   "execution_count": null,
   "id": "5e7e6bed",
   "metadata": {},
   "outputs": [],
   "source": []
  },
  {
   "cell_type": "code",
   "execution_count": null,
   "id": "da3810ea",
   "metadata": {},
   "outputs": [],
   "source": []
  },
  {
   "cell_type": "code",
   "execution_count": null,
   "id": "2fff0a62",
   "metadata": {},
   "outputs": [],
   "source": [
    "import numpy as np\n",
    "import joblib\n",
    "from tensorflow.keras.models import load_model\n",
    "from sklearn.preprocessing import MinMaxScaler\n",
    "\n",
    "# Dummy data generation\n",
    "np.random.seed(0)  # For reproducibility\n",
    "num_samples = 20\n",
    "num_features = 5  # Assuming 7 features similar to your original data\n",
    "sequence_length = 5  # Assuming sequence length of 5\n",
    "\n",
    "dummy_data = np.random.rand(num_samples, num_features)  # Dummy features\n",
    "\n",
    "# Print the first few rows of dummy data\n",
    "print(dummy_data[:5])\n",
    "\n",
    "# Load the saved model\n",
    "model_path = 'Knowledge/time series/xls/Combined_combined_data.csv/models/LSTM_model_BG.h5'\n",
    "model = load_model(model_path)\n",
    "\n",
    "# Load the scaler\n",
    "scaler_path = 'Knowledge/time series/xls/Combined_combined_data.csv/models/scaler_x.pkl'\n",
    "scaler = joblib.load(scaler_path)\n",
    "\n",
    "# Create a new MinMaxScaler with the correct number of features\n",
    "scaler = MinMaxScaler(feature_range=(0, 1))  # Adjust feature_range if needed\n",
    "scaler.fit(dummy_data)\n",
    "\n",
    "# Scale the dummy data using the new scaler\n",
    "scaled_dummy_data = scaler.transform(dummy_data)\n",
    "\n",
    "X_data = []\n",
    "for i in range(len(scaled_dummy_data) - sequence_length + 1):\n",
    "    X_data.append(scaled_dummy_data[i:(i + sequence_length)])\n",
    "X_data = np.array(X_data)\n",
    "\n",
    "# Make sure to reshape X_data to add the batch dimension\n",
    "X_data = np.reshape(X_data, (X_data.shape[0], X_data.shape[1], num_features))  # Assuming num_features is 7\n",
    "\n",
    "# Make predictions\n",
    "predictions = model.predict(X_data)\n",
    "\n",
    "print(predictions)\n"
   ]
  },
  {
   "cell_type": "markdown",
   "id": "fbc6f092",
   "metadata": {},
   "source": [
    "# new time series"
   ]
  },
  {
   "cell_type": "code",
   "execution_count": null,
   "id": "55e44bbc",
   "metadata": {},
   "outputs": [],
   "source": [
    "import pandas as pd\n",
    "import matplotlib.pyplot as plt\n",
    "import numpy as np\n",
    "### Create the Stacked LSTM model\n",
    "from tensorflow.keras.models import Sequential\n",
    "from tensorflow.keras.layers import Dense\n",
    "from tensorflow.keras.layers import LSTM"
   ]
  },
  {
   "cell_type": "code",
   "execution_count": null,
   "id": "b7f88c95",
   "metadata": {},
   "outputs": [],
   "source": [
    "path = 'Bussiness_facility/combined_data.csv'"
   ]
  },
  {
   "cell_type": "code",
   "execution_count": null,
   "id": "d688249d",
   "metadata": {},
   "outputs": [],
   "source": [
    "df = pd.read_csv(path)"
   ]
  },
  {
   "cell_type": "code",
   "execution_count": null,
   "id": "e6c9a7af",
   "metadata": {},
   "outputs": [],
   "source": [
    "df.info()"
   ]
  },
  {
   "cell_type": "code",
   "execution_count": null,
   "id": "8d831d7e",
   "metadata": {},
   "outputs": [],
   "source": [
    "df.head()"
   ]
  },
  {
   "cell_type": "code",
   "execution_count": null,
   "id": "c062a66e",
   "metadata": {},
   "outputs": [],
   "source": [
    "df.tail()"
   ]
  },
  {
   "cell_type": "code",
   "execution_count": null,
   "id": "e7df0061",
   "metadata": {},
   "outputs": [],
   "source": [
    "df1 = df.reset_index()['BG']"
   ]
  },
  {
   "cell_type": "code",
   "execution_count": null,
   "id": "ae617430",
   "metadata": {},
   "outputs": [],
   "source": [
    "df1"
   ]
  },
  {
   "cell_type": "code",
   "execution_count": null,
   "id": "54148cc4",
   "metadata": {},
   "outputs": [],
   "source": [
    "df1.shape"
   ]
  },
  {
   "cell_type": "code",
   "execution_count": null,
   "id": "aff3bd7c",
   "metadata": {},
   "outputs": [],
   "source": [
    "plt.plot(df1)"
   ]
  },
  {
   "cell_type": "markdown",
   "id": "da45ac24",
   "metadata": {},
   "source": [
    "## min max scaler"
   ]
  },
  {
   "cell_type": "code",
   "execution_count": null,
   "id": "1d18effe",
   "metadata": {},
   "outputs": [],
   "source": [
    "from sklearn.preprocessing import MinMaxScaler\n",
    "scaler= MinMaxScaler(feature_range=(0,1))\n",
    "df1 = scaler.fit_transform(np.array(df1).reshape(-1,1))"
   ]
  },
  {
   "cell_type": "code",
   "execution_count": null,
   "id": "7401c8bd",
   "metadata": {},
   "outputs": [],
   "source": [
    "df1.shape"
   ]
  },
  {
   "cell_type": "markdown",
   "id": "fd7d5940",
   "metadata": {},
   "source": [
    "## Train Test Split"
   ]
  },
  {
   "cell_type": "code",
   "execution_count": null,
   "id": "55f6bc6c",
   "metadata": {},
   "outputs": [],
   "source": [
    "training_size = int(len(df1)*0.65)\n",
    "test_size = len(df1)-training_size\n",
    "train_data,test_data = df1[0:training_size,:],df1[training_size:len(df1),:1]"
   ]
  },
  {
   "cell_type": "code",
   "execution_count": null,
   "id": "ff2eeb54",
   "metadata": {},
   "outputs": [],
   "source": [
    "train_data.shape,test_data.shape"
   ]
  },
  {
   "cell_type": "code",
   "execution_count": null,
   "id": "27bfe11f",
   "metadata": {},
   "outputs": [],
   "source": [
    "import numpy\n",
    "def create_dataset(dataset,time_step=1):\n",
    "    dataX,dataY = [], []\n",
    "    for i in range(len(dataset)-time_step-1):\n",
    "        a = dataset[i:(i+time_step),0]     #i=0, 0,1,2,3\n",
    "        dataX.append(a)\n",
    "        dataY.append(dataset[i+time_step,0])\n",
    "    return numpy.array(dataX), numpy.array(dataY)\n",
    "        "
   ]
  },
  {
   "cell_type": "code",
   "execution_count": null,
   "id": "1f36e4e3",
   "metadata": {},
   "outputs": [],
   "source": [
    "#reshape into \n",
    "time_step =100\n",
    "X_train,y_train = create_dataset(train_data, time_step)\n",
    "X_test, y_test = create_dataset(test_data, time_step)"
   ]
  },
  {
   "cell_type": "code",
   "execution_count": null,
   "id": "d60bad9c",
   "metadata": {},
   "outputs": [],
   "source": [
    "print(X_train.shape)"
   ]
  },
  {
   "cell_type": "code",
   "execution_count": null,
   "id": "326fa266",
   "metadata": {},
   "outputs": [],
   "source": [
    "# reshape input to be [samples, time steps, features] which is required for LSTM\n",
    "X_train =X_train.reshape(X_train.shape[0],X_train.shape[1] , 1)\n",
    "X_test = X_test.reshape(X_test.shape[0],X_test.shape[1] , 1)"
   ]
  },
  {
   "cell_type": "code",
   "execution_count": null,
   "id": "d1dd8adb",
   "metadata": {},
   "outputs": [],
   "source": []
  },
  {
   "cell_type": "code",
   "execution_count": null,
   "id": "8b532eaa",
   "metadata": {},
   "outputs": [],
   "source": [
    "model=Sequential()\n",
    "model.add(LSTM(50,return_sequences=True,input_shape=(100,1)))\n",
    "model.add(LSTM(50,return_sequences=True))\n",
    "model.add(LSTM(50))\n",
    "model.add(Dense(1))\n",
    "model.compile(loss='mean_squared_error',optimizer='adam')"
   ]
  },
  {
   "cell_type": "code",
   "execution_count": null,
   "id": "e8474f22",
   "metadata": {},
   "outputs": [],
   "source": [
    "model.summary()"
   ]
  },
  {
   "cell_type": "code",
   "execution_count": null,
   "id": "c7355ad1",
   "metadata": {},
   "outputs": [],
   "source": [
    "model.fit(X_train,y_train,validation_data=(X_test,y_test),epochs=10,batch_size=64,verbose=1)"
   ]
  },
  {
   "cell_type": "markdown",
   "id": "616722c6",
   "metadata": {},
   "source": [
    "# Predictions"
   ]
  },
  {
   "cell_type": "code",
   "execution_count": null,
   "id": "d0a677e7",
   "metadata": {},
   "outputs": [],
   "source": [
    "#prediction\n",
    "train_predict =  model.predict(X_train)\n",
    "test_predict = model.predict(X_test)"
   ]
  },
  {
   "cell_type": "code",
   "execution_count": null,
   "id": "9311c731",
   "metadata": {},
   "outputs": [],
   "source": [
    "#Transformback to original form\n",
    "train_predict = scaler.inverse_transform(train_predict)\n",
    "test_predict = scaler.inverse_transform(test_predict)"
   ]
  },
  {
   "cell_type": "code",
   "execution_count": null,
   "id": "9ce3cefa",
   "metadata": {},
   "outputs": [],
   "source": [
    "print(test_predict[:5])"
   ]
  },
  {
   "cell_type": "markdown",
   "id": "531d3e92",
   "metadata": {},
   "source": [
    "## calculate RMSE performace"
   ]
  },
  {
   "cell_type": "code",
   "execution_count": null,
   "id": "4faa30a7",
   "metadata": {},
   "outputs": [],
   "source": [
    "import math\n",
    "from sklearn.metrics import mean_squared_error\n",
    "math.sqrt(mean_squared_error(y_train,train_predict))"
   ]
  },
  {
   "cell_type": "code",
   "execution_count": null,
   "id": "13b26d52",
   "metadata": {},
   "outputs": [],
   "source": [
    "## Test Data RMSE\n",
    "math.sqrt(mean_squared_error(y_test,test_predict))"
   ]
  },
  {
   "cell_type": "markdown",
   "id": "8c955e56",
   "metadata": {},
   "source": [
    "## Train Vs Test Data"
   ]
  },
  {
   "cell_type": "code",
   "execution_count": null,
   "id": "e923d63f",
   "metadata": {},
   "outputs": [],
   "source": [
    "### Plotting \n",
    "# shift train predictions for plotting\n",
    "look_back=100\n",
    "trainPredictPlot = numpy.empty_like(df1)\n",
    "trainPredictPlot[:, :] = np.nan\n",
    "trainPredictPlot[look_back:len(train_predict)+look_back, :] = train_predict\n",
    "# shift test predictions for plotting\n",
    "testPredictPlot = numpy.empty_like(df1)\n",
    "testPredictPlot[:, :] = numpy.nan\n",
    "testPredictPlot[len(train_predict)+(look_back*2)+1:len(df1)-1, :] = test_predict\n",
    "# plot baseline and predictions\n",
    "plt.plot(scaler.inverse_transform(df1))\n",
    "plt.plot(trainPredictPlot)\n",
    "plt.plot(testPredictPlot)\n",
    "plt.show()"
   ]
  },
  {
   "cell_type": "markdown",
   "id": "73c19326",
   "metadata": {},
   "source": [
    "## prediction next 10 days"
   ]
  },
  {
   "cell_type": "code",
   "execution_count": null,
   "id": "39da2c62",
   "metadata": {},
   "outputs": [],
   "source": [
    "len(test_data)"
   ]
  },
  {
   "cell_type": "code",
   "execution_count": null,
   "id": "9d29365d",
   "metadata": {},
   "outputs": [],
   "source": [
    "x_input=test_data[10988:].reshape(1,-1)\n",
    "x_input.shape"
   ]
  },
  {
   "cell_type": "code",
   "execution_count": null,
   "id": "53de7fc5",
   "metadata": {},
   "outputs": [],
   "source": [
    "temp_input=list(x_input)\n",
    "temp_input=temp_input[0].tolist()"
   ]
  },
  {
   "cell_type": "code",
   "execution_count": null,
   "id": "f7afd4fe",
   "metadata": {},
   "outputs": [],
   "source": []
  },
  {
   "cell_type": "code",
   "execution_count": null,
   "id": "2bde99a9",
   "metadata": {},
   "outputs": [],
   "source": [
    "# Define the number of future days to predict\n",
    "num_days = 30\n",
    "n_steps = 100\n",
    "# Initialize temp_input with the last known values from your dataset\n",
    "\n",
    "# Predict future values for each day in the specified range\n",
    "predicted_values_scaled = []  # Store scaled predicted values\n",
    "for i in range(num_days):\n",
    "    x_input = np.array(temp_input).reshape((1, n_steps, 1))\n",
    "    yhat = model.predict(x_input, verbose=0)\n",
    "    temp_input = np.append(temp_input[1:], yhat[0])  # Update temp_input for the next prediction\n",
    "    predicted_values_scaled.append(yhat[0])\n",
    "\n",
    "# Inverse scale the predicted values\n",
    "predicted_values = scaler.inverse_transform(np.array(predicted_values_scaled).reshape(-1, 1)).flatten()\n",
    "\n",
    "# Print and plot the predicted values\n",
    "for i, pred in enumerate(predicted_values):\n",
    "    print(\"Day {}: Predicted BG value = {}\".format(i + 1, pred))"
   ]
  },
  {
   "cell_type": "markdown",
   "id": "399fdc17",
   "metadata": {},
   "source": [
    "# new test"
   ]
  },
  {
   "cell_type": "code",
   "execution_count": 1,
   "id": "e9ab4738",
   "metadata": {},
   "outputs": [
    {
     "ename": "NameError",
     "evalue": "name 'pd' is not defined",
     "output_type": "error",
     "traceback": [
      "\u001b[0;31m---------------------------------------------------------------------------\u001b[0m",
      "\u001b[0;31mNameError\u001b[0m                                 Traceback (most recent call last)",
      "Cell \u001b[0;32mIn[1], line 2\u001b[0m\n\u001b[1;32m      1\u001b[0m path \u001b[38;5;241m=\u001b[39m \u001b[38;5;124m'\u001b[39m\u001b[38;5;124mBussiness_facility/combined_data.csv\u001b[39m\u001b[38;5;124m'\u001b[39m\n\u001b[0;32m----> 2\u001b[0m df \u001b[38;5;241m=\u001b[39m \u001b[43mpd\u001b[49m\u001b[38;5;241m.\u001b[39mread_csv(path, parse_dates\u001b[38;5;241m=\u001b[39m[\u001b[38;5;124m'\u001b[39m\u001b[38;5;124mTime\u001b[39m\u001b[38;5;124m'\u001b[39m])\n",
      "\u001b[0;31mNameError\u001b[0m: name 'pd' is not defined"
     ]
    }
   ],
   "source": [
    "path = 'Bussiness_facility/combined_data.csv'\n",
    "df = pd.read_csv(path, parse_dates=['Time'])"
   ]
  },
  {
   "cell_type": "code",
   "execution_count": 9,
   "id": "24ffb59a",
   "metadata": {},
   "outputs": [],
   "source": [
    "import pandas as pd\n",
    "import numpy as np\n",
    "from sklearn.preprocessing import MinMaxScaler\n",
    "from keras.models import Sequential\n",
    "from keras.layers import LSTM, Dense\n",
    "import matplotlib.pyplot as plt\n",
    "\n",
    "# Load the dataset\n",
    "data = pd.read_csv('Bussiness_facility/combined_data.csv')\n",
    "\n",
    "# Convert the 'Time' column to datetime\n",
    "data['Time'] = pd.to_datetime(data['Time'], errors='coerce')\n",
    "\n",
    "# Set the 'Time' column as the index\n",
    "data.set_index('Time', inplace=True)\n",
    "\n",
    "# Function to prepare data for LSTM\n",
    "def prepare_data_for_lstm(data, target_column, look_back=1):\n",
    "    scaler = MinMaxScaler(feature_range=(0, 1))\n",
    "    dataset = scaler.fit_transform(data[[target_column]])\n",
    "\n",
    "    X, Y = [], []\n",
    "    for i in range(len(dataset) - look_back):\n",
    "        X.append(dataset[i:(i + look_back), 0])\n",
    "        Y.append(dataset[i + look_back, 0])\n",
    "    return np.array(X), np.array(Y), scaler\n",
    "\n",
    "# Function to create LSTM model\n",
    "def create_lstm_model(look_back):\n",
    "    model = Sequential()\n",
    "    model.add(LSTM(units=50, input_shape=(look_back, 1)))\n",
    "    model.add(Dense(units=1))\n",
    "    model.compile(optimizer='adam', loss='mean_squared_error')\n",
    "    return model\n",
    "\n",
    "# Function to perform time series forecasting using LSTM\n",
    "def forecast_lstm(data, target_column, look_back=1, epochs=10, batch_size=1, forecast_period=10):\n",
    "    X, Y, scaler = prepare_data_for_lstm(data, target_column, look_back)\n",
    "    X = np.reshape(X, (X.shape[0], X.shape[1], 1))\n",
    "\n",
    "    model = create_lstm_model(look_back)\n",
    "    model.fit(X, Y, epochs=epochs, batch_size=batch_size, verbose=2)\n",
    "\n",
    "    # Make predictions for forecast period\n",
    "    last_input = X[-1]\n",
    "    forecast_data = []\n",
    "    for _ in range(forecast_period):\n",
    "        prediction = model.predict(np.reshape(last_input, (1, look_back, 1)))\n",
    "        forecast_data.append(prediction[0][0])\n",
    "        last_input = np.append(last_input[1:], prediction[0])\n",
    "\n",
    "    # Inverse transform the forecast predictions\n",
    "    forecast_data = scaler.inverse_transform(np.array(forecast_data).reshape(-1, 1))\n",
    "    print(\"Forecasted data:\")\n",
    "    print(forecast_data)\n",
    "    return forecast_data\n",
    "\n"
   ]
  },
  {
   "cell_type": "code",
   "execution_count": 10,
   "id": "f3fb547f",
   "metadata": {},
   "outputs": [
    {
     "name": "stdout",
     "output_type": "stream",
     "text": [
      "Epoch 1/10\n"
     ]
    },
    {
     "name": "stderr",
     "output_type": "stream",
     "text": [
      "/root/anaconda3/envs/py39/lib/python3.9/site-packages/keras/src/layers/rnn/rnn.py:205: UserWarning: Do not pass an `input_shape`/`input_dim` argument to a layer. When using Sequential models, prefer using an `Input(shape)` object as the first layer in the model instead.\n",
      "  super().__init__(**kwargs)\n"
     ]
    },
    {
     "name": "stdout",
     "output_type": "stream",
     "text": [
      "31679/31679 - 86s - 3ms/step - loss: 3.7028e-04\n",
      "Epoch 2/10\n",
      "31679/31679 - 79s - 2ms/step - loss: 1.9821e-04\n",
      "Epoch 3/10\n",
      "31679/31679 - 77s - 2ms/step - loss: 1.9520e-04\n",
      "Epoch 4/10\n",
      "31679/31679 - 80s - 3ms/step - loss: 1.9217e-04\n",
      "Epoch 5/10\n",
      "31679/31679 - 78s - 2ms/step - loss: 1.8908e-04\n",
      "Epoch 6/10\n",
      "31679/31679 - 77s - 2ms/step - loss: 1.8740e-04\n",
      "Epoch 7/10\n",
      "31679/31679 - 78s - 2ms/step - loss: 1.8629e-04\n",
      "Epoch 8/10\n",
      "31679/31679 - 73s - 2ms/step - loss: 1.8509e-04\n",
      "Epoch 9/10\n",
      "31679/31679 - 77s - 2ms/step - loss: 1.8359e-04\n",
      "Epoch 10/10\n",
      "31679/31679 - 80s - 3ms/step - loss: 1.8296e-04\n",
      "\u001b[1m1/1\u001b[0m \u001b[32m━━━━━━━━━━━━━━━━━━━━\u001b[0m\u001b[37m\u001b[0m \u001b[1m0s\u001b[0m 136ms/step\n",
      "\u001b[1m1/1\u001b[0m \u001b[32m━━━━━━━━━━━━━━━━━━━━\u001b[0m\u001b[37m\u001b[0m \u001b[1m0s\u001b[0m 22ms/step\n",
      "\u001b[1m1/1\u001b[0m \u001b[32m━━━━━━━━━━━━━━━━━━━━\u001b[0m\u001b[37m\u001b[0m \u001b[1m0s\u001b[0m 18ms/step\n",
      "\u001b[1m1/1\u001b[0m \u001b[32m━━━━━━━━━━━━━━━━━━━━\u001b[0m\u001b[37m\u001b[0m \u001b[1m0s\u001b[0m 17ms/step\n",
      "\u001b[1m1/1\u001b[0m \u001b[32m━━━━━━━━━━━━━━━━━━━━\u001b[0m\u001b[37m\u001b[0m \u001b[1m0s\u001b[0m 17ms/step\n",
      "\u001b[1m1/1\u001b[0m \u001b[32m━━━━━━━━━━━━━━━━━━━━\u001b[0m\u001b[37m\u001b[0m \u001b[1m0s\u001b[0m 17ms/step\n",
      "\u001b[1m1/1\u001b[0m \u001b[32m━━━━━━━━━━━━━━━━━━━━\u001b[0m\u001b[37m\u001b[0m \u001b[1m0s\u001b[0m 17ms/step\n",
      "\u001b[1m1/1\u001b[0m \u001b[32m━━━━━━━━━━━━━━━━━━━━\u001b[0m\u001b[37m\u001b[0m \u001b[1m0s\u001b[0m 16ms/step\n",
      "\u001b[1m1/1\u001b[0m \u001b[32m━━━━━━━━━━━━━━━━━━━━\u001b[0m\u001b[37m\u001b[0m \u001b[1m0s\u001b[0m 16ms/step\n",
      "\u001b[1m1/1\u001b[0m \u001b[32m━━━━━━━━━━━━━━━━━━━━\u001b[0m\u001b[37m\u001b[0m \u001b[1m0s\u001b[0m 17ms/step\n",
      "Forecasted data:\n",
      "[[120.67601]\n",
      " [122.95219]\n",
      " [125.24646]\n",
      " [127.55892]\n",
      " [129.88971]\n",
      " [132.23894]\n",
      " [134.60678]\n",
      " [136.99341]\n",
      " [139.39903]\n",
      " [141.82385]]\n"
     ]
    },
    {
     "data": {
      "text/plain": [
       "array([[120.67601],\n",
       "       [122.95219],\n",
       "       [125.24646],\n",
       "       [127.55892],\n",
       "       [129.88971],\n",
       "       [132.23894],\n",
       "       [134.60678],\n",
       "       [136.99341],\n",
       "       [139.39903],\n",
       "       [141.82385]], dtype=float32)"
      ]
     },
     "execution_count": 10,
     "metadata": {},
     "output_type": "execute_result"
    }
   ],
   "source": [
    "# Example usage\n",
    "target_column = 'BG'  # Specify the target column name\n",
    "forecast_period = 10  # Specify the forecast period\n",
    "look_back = 1  # Specify the number of timesteps to look back\n",
    "\n",
    "forecast_lstm(data, target_column, look_back=look_back, forecast_period=forecast_period)\n"
   ]
  },
  {
   "cell_type": "code",
   "execution_count": null,
   "id": "526152d5",
   "metadata": {},
   "outputs": [],
   "source": []
  },
  {
   "cell_type": "code",
   "execution_count": null,
   "id": "75f6bda5",
   "metadata": {},
   "outputs": [],
   "source": []
  },
  {
   "cell_type": "code",
   "execution_count": null,
   "id": "e0f54428",
   "metadata": {},
   "outputs": [],
   "source": []
  },
  {
   "cell_type": "code",
   "execution_count": null,
   "id": "afdccda1",
   "metadata": {},
   "outputs": [],
   "source": []
  },
  {
   "cell_type": "code",
   "execution_count": null,
   "id": "13113ec3",
   "metadata": {},
   "outputs": [],
   "source": []
  },
  {
   "cell_type": "code",
   "execution_count": null,
   "id": "22fa3383",
   "metadata": {},
   "outputs": [],
   "source": []
  },
  {
   "cell_type": "code",
   "execution_count": null,
   "id": "99ddd263",
   "metadata": {},
   "outputs": [],
   "source": [
    "import pandas as pd\n",
    "import numpy as np\n",
    "from sklearn.preprocessing import MinMaxScaler\n",
    "from keras.models import Sequential\n",
    "from keras.layers import LSTM, Dense\n",
    "import matplotlib.pyplot as plt\n",
    "\n",
    "# Load the dataset\n",
    "data = pd.read_csv('Bussiness_facility/combined_data.csv')\n",
    "\n",
    "# Convert the 'Time' column to datetime\n",
    "data['Time'] = pd.to_datetime(data['Time'], errors='coerce')\n",
    "\n",
    "# Remove the 'Time' column before setting it as the index\n",
    "data.set_index('Time', inplace=True)\n",
    "\n",
    "# Function to prepare data for LSTM\n",
    "def prepare_data_for_lstm(data, target_column, look_back=1):\n",
    "    scaler = MinMaxScaler(feature_range=(0, 1))\n",
    "    dataset = scaler.fit_transform(data[[target_column]])\n",
    "\n",
    "    X, Y = [], []\n",
    "    for i in range(len(dataset) - look_back):\n",
    "        X.append(dataset[i:(i + look_back), 0])\n",
    "        Y.append(dataset[i + look_back, 0])\n",
    "    return np.array(X), np.array(Y), scaler\n",
    "\n",
    "# Function to create LSTM model\n",
    "def create_lstm_model(look_back):\n",
    "    model = Sequential()\n",
    "    model.add(LSTM(units=50, input_shape=(look_back, 1)))\n",
    "    model.add(Dense(units=1))\n",
    "    model.compile(optimizer='adam', loss='mean_squared_error')\n",
    "    return model\n",
    "\n",
    "# Function to perform time series forecasting using LSTM\n",
    "def forecast_lstm(data, target_column, look_back=1, epochs=10, batch_size=1, forecast_period=10):\n",
    "    X, Y, scaler = prepare_data_for_lstm(data, target_column, look_back)\n",
    "    X = np.reshape(X, (X.shape[0], X.shape[1], 1))\n",
    "\n",
    "    model = create_lstm_model(look_back)\n",
    "    model.fit(X, Y, epochs=epochs, batch_size=batch_size, verbose=2)\n",
    "\n",
    "    # Make predictions for forecast period\n",
    "    last_input = X[-1]\n",
    "    forecast_data = []\n",
    "    for _ in range(forecast_period):\n",
    "        prediction = model.predict(np.reshape(last_input, (1, look_back, 1)))\n",
    "        forecast_data.append(prediction[0][0])\n",
    "        last_input = np.append(last_input[1:], prediction[0])\n",
    "\n",
    "    # Inverse transform the forecast predictions\n",
    "    forecast_data = scaler.inverse_transform(np.array(forecast_data).reshape(-1, 1))\n",
    "    print(forecast_data)\n",
    "\n",
    "# Define the forecast period\n",
    "start_date = '2023-10-26 12:25:00'\n",
    "end_date = '2023-11-26 12:25:00'\n",
    "\n",
    "# Filter the data for the forecast period\n",
    "forecast_data = data[start_date:end_date]\n",
    "\n",
    "# Perform forecasting\n",
    "forecast_lstm(forecast_data, target_column='BG', look_back=1, epochs=10, batch_size=1, forecast_period=10)\n"
   ]
  },
  {
   "cell_type": "code",
   "execution_count": 1,
   "id": "0ceeab2a",
   "metadata": {},
   "outputs": [
    {
     "data": {
      "application/vnd.jupyter.widget-view+json": {
       "model_id": "ad766585fe8345aeae4b26c8e576f818",
       "version_major": 2,
       "version_minor": 0
      },
      "text/plain": [
       "Loading checkpoint shards:   0%|          | 0/3 [00:00<?, ?it/s]"
      ]
     },
     "metadata": {},
     "output_type": "display_data"
    },
    {
     "name": "stderr",
     "output_type": "stream",
     "text": [
      "The attention mask and the pad token id were not set. As a consequence, you may observe unexpected behavior. Please pass your input's `attention_mask` to obtain reliable results.\n",
      "Setting `pad_token_id` to `eos_token_id`:2 for open-end generation.\n",
      "A decoder-only architecture is being used, but right-padding was detected! For correct generation results, please set `padding_side='left'` when initializing the tokenizer.\n",
      "2024-03-29 08:14:17.462561: I tensorflow/core/util/port.cc:113] oneDNN custom operations are on. You may see slightly different numerical results due to floating-point round-off errors from different computation orders. To turn them off, set the environment variable `TF_ENABLE_ONEDNN_OPTS=0`.\n",
      "2024-03-29 08:14:17.513041: I tensorflow/core/platform/cpu_feature_guard.cc:210] This TensorFlow binary is optimized to use available CPU instructions in performance-critical operations.\n",
      "To enable the following instructions: AVX2 AVX512F AVX512_VNNI FMA, in other operations, rebuild TensorFlow with the appropriate compiler flags.\n",
      "2024-03-29 08:14:18.318124: W tensorflow/compiler/tf2tensorrt/utils/py_utils.cc:38] TF-TRT Warning: Could not find TensorRT\n",
      "The attention mask and the pad token id were not set. As a consequence, you may observe unexpected behavior. Please pass your input's `attention_mask` to obtain reliable results.\n",
      "Setting `pad_token_id` to `eos_token_id`:2 for open-end generation.\n",
      "A decoder-only architecture is being used, but right-padding was detected! For correct generation results, please set `padding_side='left'` when initializing the tokenizer.\n"
     ]
    },
    {
     "name": "stdout",
     "output_type": "stream",
     "text": [
      "Introduction: <s> [INST] Can you introduce yourself? [/INST]Can you introduce yourself?</s> I'm an artificial intelligence language model, designed to help answer questions and generate text based on prompts given to me. I don't have the ability to feel or have personal experiences, but I can process and generate text based on patterns and information provided to me. I can help answer questions, write essays, generate stories, and much more! Is there any specific way I can assist you today?</s>\n",
      "Summary: <s> [INST] Can you provide a summary? [/INST]Can you provide a summary?</s> I'd be happy to help summarize a text or article for you. However, I'll need a specific text or article in order to do so. Please provide the title, author, and key details for the text you have in mind, and I'll do my best to create a clear and concise summary that captures the main points and ideas.\n",
      "\n",
      "A summary is a condensed version of a larger text, and it should include the most important information while omitting\n"
     ]
    }
   ],
   "source": [
    "from transformers import AutoModelForCausalLM, AutoTokenizer\n",
    "\n",
    "class ConversationGenerator:\n",
    "    def __init__(self, model_name_or_path):\n",
    "        self.model = AutoModelForCausalLM.from_pretrained(model_name_or_path, device_map=\"auto\")\n",
    "        self.tokenizer = AutoTokenizer.from_pretrained(model_name_or_path)\n",
    "    \n",
    "    def generate_response(self, user_question, system_prompt_question, max_tokens=100):\n",
    "        conversation = [\n",
    "            {\"role\": \"user\", \"content\": user_question},\n",
    "            {\"role\": \"assistant\", \"content\": system_prompt_question}\n",
    "        ]\n",
    "        \n",
    "        model_inputs = self.tokenizer.apply_chat_template(conversation, return_tensors=\"pt\").to(\"cuda\")\n",
    "        generated_ids = self.model.generate(model_inputs, max_new_tokens=max_tokens, do_sample=True)\n",
    "        response = self.tokenizer.batch_decode(generated_ids)[0]\n",
    "        \n",
    "        return response\n",
    "    \n",
    "    def introduction(self, user_question):\n",
    "        system_prompt_question = \"Can you introduce yourself?\"\n",
    "        user_question = \"Can you introduce yourself?\"\n",
    "        return self.generate_response(user_question, system_prompt_question)\n",
    "    \n",
    "    def summary(self, user_question):\n",
    "        system_prompt_question = \"Can you provide a summary?\"\n",
    "        user_question = \"Can you provide a summary?\"\n",
    "        return self.generate_response(user_question, system_prompt_question)\n",
    "\n",
    "# Example usage:\n",
    "generator = ConversationGenerator(\"mistralai/Mistral-7B-Instruct-v0.2\")\n",
    "\n",
    "# Introduction\n",
    "\n",
    "response = generator.introduction(user_question)\n",
    "print(\"Introduction:\", response)\n"
   ]
  },
  {
   "cell_type": "code",
   "execution_count": 2,
   "id": "69274dd6",
   "metadata": {},
   "outputs": [
    {
     "name": "stderr",
     "output_type": "stream",
     "text": [
      "The attention mask and the pad token id were not set. As a consequence, you may observe unexpected behavior. Please pass your input's `attention_mask` to obtain reliable results.\n",
      "Setting `pad_token_id` to `eos_token_id`:2 for open-end generation.\n",
      "A decoder-only architecture is being used, but right-padding was detected! For correct generation results, please set `padding_side='left'` when initializing the tokenizer.\n"
     ]
    },
    {
     "name": "stdout",
     "output_type": "stream",
     "text": [
      "Summary: <s> [INST] Can you provide a summary? [/INST]Can you provide a summary?</s> I'd be happy to help summarize a text or article for you, but I'll need you to provide the specific text or article first. Once I have that, I can read through it and summarize the key points, main ideas, and any important details. Generally, a summary should capture the essential meaning of the original text and convey its main ideas in a condensed and clear manner. It should be accurate, complete, and unbiased, and should not add any\n"
     ]
    }
   ],
   "source": [
    "# Summary\n",
    "\n",
    "response = generator.summary(user_question)\n",
    "print(\"Summary:\", response)"
   ]
  },
  {
   "cell_type": "code",
   "execution_count": 20,
   "id": "dfdad49e",
   "metadata": {},
   "outputs": [
    {
     "name": "stdout",
     "output_type": "stream",
     "text": [
      "Enter the target column: BG\n",
      "Enter the time column: Time\n",
      "Epoch 1/10\n"
     ]
    },
    {
     "name": "stderr",
     "output_type": "stream",
     "text": [
      "/root/anaconda3/envs/py39/lib/python3.9/site-packages/keras/src/layers/rnn/rnn.py:205: UserWarning: Do not pass an `input_shape`/`input_dim` argument to a layer. When using Sequential models, prefer using an `Input(shape)` object as the first layer in the model instead.\n",
      "  super().__init__(**kwargs)\n"
     ]
    },
    {
     "name": "stdout",
     "output_type": "stream",
     "text": [
      "23649/23649 - 61s - 3ms/step - loss: 4.5631e-04\n",
      "Epoch 2/10\n",
      "23649/23649 - 60s - 3ms/step - loss: 2.4830e-04\n",
      "Epoch 3/10\n",
      "23649/23649 - 63s - 3ms/step - loss: 2.4335e-04\n",
      "Epoch 4/10\n",
      "23649/23649 - 62s - 3ms/step - loss: 2.3962e-04\n",
      "Epoch 5/10\n",
      "23649/23649 - 54s - 2ms/step - loss: 2.3834e-04\n",
      "Epoch 6/10\n",
      "23649/23649 - 51s - 2ms/step - loss: 2.3903e-04\n",
      "Epoch 7/10\n",
      "23649/23649 - 54s - 2ms/step - loss: 2.3671e-04\n",
      "Epoch 8/10\n",
      "23649/23649 - 55s - 2ms/step - loss: 2.3297e-04\n",
      "Epoch 9/10\n",
      "23649/23649 - 55s - 2ms/step - loss: 2.3237e-04\n",
      "Epoch 10/10\n",
      "23649/23649 - 54s - 2ms/step - loss: 2.3068e-04\n",
      "\u001b[1m1/1\u001b[0m \u001b[32m━━━━━━━━━━━━━━━━━━━━\u001b[0m\u001b[37m\u001b[0m \u001b[1m0s\u001b[0m 132ms/step\n",
      "\u001b[1m1/1\u001b[0m \u001b[32m━━━━━━━━━━━━━━━━━━━━\u001b[0m\u001b[37m\u001b[0m \u001b[1m0s\u001b[0m 17ms/step\n",
      "\u001b[1m1/1\u001b[0m \u001b[32m━━━━━━━━━━━━━━━━━━━━\u001b[0m\u001b[37m\u001b[0m \u001b[1m0s\u001b[0m 18ms/step\n",
      "\u001b[1m1/1\u001b[0m \u001b[32m━━━━━━━━━━━━━━━━━━━━\u001b[0m\u001b[37m\u001b[0m \u001b[1m0s\u001b[0m 16ms/step\n",
      "\u001b[1m1/1\u001b[0m \u001b[32m━━━━━━━━━━━━━━━━━━━━\u001b[0m\u001b[37m\u001b[0m \u001b[1m0s\u001b[0m 18ms/step\n",
      "\u001b[1m1/1\u001b[0m \u001b[32m━━━━━━━━━━━━━━━━━━━━\u001b[0m\u001b[37m\u001b[0m \u001b[1m0s\u001b[0m 16ms/step\n",
      "\u001b[1m1/1\u001b[0m \u001b[32m━━━━━━━━━━━━━━━━━━━━\u001b[0m\u001b[37m\u001b[0m \u001b[1m0s\u001b[0m 17ms/step\n",
      "\u001b[1m1/1\u001b[0m \u001b[32m━━━━━━━━━━━━━━━━━━━━\u001b[0m\u001b[37m\u001b[0m \u001b[1m0s\u001b[0m 18ms/step\n",
      "\u001b[1m1/1\u001b[0m \u001b[32m━━━━━━━━━━━━━━━━━━━━\u001b[0m\u001b[37m\u001b[0m \u001b[1m0s\u001b[0m 16ms/step\n",
      "\u001b[1m1/1\u001b[0m \u001b[32m━━━━━━━━━━━━━━━━━━━━\u001b[0m\u001b[37m\u001b[0m \u001b[1m0s\u001b[0m 18ms/step\n",
      "\u001b[1m1/1\u001b[0m \u001b[32m━━━━━━━━━━━━━━━━━━━━\u001b[0m\u001b[37m\u001b[0m \u001b[1m0s\u001b[0m 18ms/step\n",
      "\u001b[1m1/1\u001b[0m \u001b[32m━━━━━━━━━━━━━━━━━━━━\u001b[0m\u001b[37m\u001b[0m \u001b[1m0s\u001b[0m 18ms/step\n",
      "\u001b[1m1/1\u001b[0m \u001b[32m━━━━━━━━━━━━━━━━━━━━\u001b[0m\u001b[37m\u001b[0m \u001b[1m0s\u001b[0m 18ms/step\n",
      "\u001b[1m1/1\u001b[0m \u001b[32m━━━━━━━━━━━━━━━━━━━━\u001b[0m\u001b[37m\u001b[0m \u001b[1m0s\u001b[0m 17ms/step\n",
      "\u001b[1m1/1\u001b[0m \u001b[32m━━━━━━━━━━━━━━━━━━━━\u001b[0m\u001b[37m\u001b[0m \u001b[1m0s\u001b[0m 17ms/step\n",
      "\u001b[1m1/1\u001b[0m \u001b[32m━━━━━━━━━━━━━━━━━━━━\u001b[0m\u001b[37m\u001b[0m \u001b[1m0s\u001b[0m 16ms/step\n",
      "\u001b[1m1/1\u001b[0m \u001b[32m━━━━━━━━━━━━━━━━━━━━\u001b[0m\u001b[37m\u001b[0m \u001b[1m0s\u001b[0m 16ms/step\n",
      "\u001b[1m1/1\u001b[0m \u001b[32m━━━━━━━━━━━━━━━━━━━━\u001b[0m\u001b[37m\u001b[0m \u001b[1m0s\u001b[0m 17ms/step\n",
      "\u001b[1m1/1\u001b[0m \u001b[32m━━━━━━━━━━━━━━━━━━━━\u001b[0m\u001b[37m\u001b[0m \u001b[1m0s\u001b[0m 18ms/step\n",
      "\u001b[1m1/1\u001b[0m \u001b[32m━━━━━━━━━━━━━━━━━━━━\u001b[0m\u001b[37m\u001b[0m \u001b[1m0s\u001b[0m 16ms/step\n",
      "\u001b[1m1/1\u001b[0m \u001b[32m━━━━━━━━━━━━━━━━━━━━\u001b[0m\u001b[37m\u001b[0m \u001b[1m0s\u001b[0m 17ms/step\n",
      "\u001b[1m1/1\u001b[0m \u001b[32m━━━━━━━━━━━━━━━━━━━━\u001b[0m\u001b[37m\u001b[0m \u001b[1m0s\u001b[0m 18ms/step\n",
      "\u001b[1m1/1\u001b[0m \u001b[32m━━━━━━━━━━━━━━━━━━━━\u001b[0m\u001b[37m\u001b[0m \u001b[1m0s\u001b[0m 17ms/step\n",
      "\u001b[1m1/1\u001b[0m \u001b[32m━━━━━━━━━━━━━━━━━━━━\u001b[0m\u001b[37m\u001b[0m \u001b[1m0s\u001b[0m 17ms/step\n",
      "\u001b[1m1/1\u001b[0m \u001b[32m━━━━━━━━━━━━━━━━━━━━\u001b[0m\u001b[37m\u001b[0m \u001b[1m0s\u001b[0m 16ms/step\n",
      "\u001b[1m1/1\u001b[0m \u001b[32m━━━━━━━━━━━━━━━━━━━━\u001b[0m\u001b[37m\u001b[0m \u001b[1m0s\u001b[0m 16ms/step\n",
      "\u001b[1m1/1\u001b[0m \u001b[32m━━━━━━━━━━━━━━━━━━━━\u001b[0m\u001b[37m\u001b[0m \u001b[1m0s\u001b[0m 17ms/step\n",
      "\u001b[1m1/1\u001b[0m \u001b[32m━━━━━━━━━━━━━━━━━━━━\u001b[0m\u001b[37m\u001b[0m \u001b[1m0s\u001b[0m 18ms/step\n",
      "\u001b[1m1/1\u001b[0m \u001b[32m━━━━━━━━━━━━━━━━━━━━\u001b[0m\u001b[37m\u001b[0m \u001b[1m0s\u001b[0m 16ms/step\n",
      "\u001b[1m1/1\u001b[0m \u001b[32m━━━━━━━━━━━━━━━━━━━━\u001b[0m\u001b[37m\u001b[0m \u001b[1m0s\u001b[0m 16ms/step\n",
      "\u001b[1m1/1\u001b[0m \u001b[32m━━━━━━━━━━━━━━━━━━━━\u001b[0m\u001b[37m\u001b[0m \u001b[1m0s\u001b[0m 18ms/step\n",
      "\u001b[1m1/1\u001b[0m \u001b[32m━━━━━━━━━━━━━━━━━━━━\u001b[0m\u001b[37m\u001b[0m \u001b[1m0s\u001b[0m 18ms/step\n",
      "\u001b[1m1/1\u001b[0m \u001b[32m━━━━━━━━━━━━━━━━━━━━\u001b[0m\u001b[37m\u001b[0m \u001b[1m0s\u001b[0m 16ms/step\n",
      "\u001b[1m1/1\u001b[0m \u001b[32m━━━━━━━━━━━━━━━━━━━━\u001b[0m\u001b[37m\u001b[0m \u001b[1m0s\u001b[0m 18ms/step\n",
      "\u001b[1m1/1\u001b[0m \u001b[32m━━━━━━━━━━━━━━━━━━━━\u001b[0m\u001b[37m\u001b[0m \u001b[1m0s\u001b[0m 16ms/step\n",
      "\u001b[1m1/1\u001b[0m \u001b[32m━━━━━━━━━━━━━━━━━━━━\u001b[0m\u001b[37m\u001b[0m \u001b[1m0s\u001b[0m 17ms/step\n",
      "\u001b[1m1/1\u001b[0m \u001b[32m━━━━━━━━━━━━━━━━━━━━\u001b[0m\u001b[37m\u001b[0m \u001b[1m0s\u001b[0m 18ms/step\n",
      "\u001b[1m1/1\u001b[0m \u001b[32m━━━━━━━━━━━━━━━━━━━━\u001b[0m\u001b[37m\u001b[0m \u001b[1m0s\u001b[0m 17ms/step\n",
      "\u001b[1m1/1\u001b[0m \u001b[32m━━━━━━━━━━━━━━━━━━━━\u001b[0m\u001b[37m\u001b[0m \u001b[1m0s\u001b[0m 17ms/step\n",
      "\u001b[1m1/1\u001b[0m \u001b[32m━━━━━━━━━━━━━━━━━━━━\u001b[0m\u001b[37m\u001b[0m \u001b[1m0s\u001b[0m 18ms/step\n",
      "\u001b[1m1/1\u001b[0m \u001b[32m━━━━━━━━━━━━━━━━━━━━\u001b[0m\u001b[37m\u001b[0m \u001b[1m0s\u001b[0m 17ms/step\n",
      "\u001b[1m1/1\u001b[0m \u001b[32m━━━━━━━━━━━━━━━━━━━━\u001b[0m\u001b[37m\u001b[0m \u001b[1m0s\u001b[0m 18ms/step\n",
      "\u001b[1m1/1\u001b[0m \u001b[32m━━━━━━━━━━━━━━━━━━━━\u001b[0m\u001b[37m\u001b[0m \u001b[1m0s\u001b[0m 18ms/step\n",
      "\u001b[1m1/1\u001b[0m \u001b[32m━━━━━━━━━━━━━━━━━━━━\u001b[0m\u001b[37m\u001b[0m \u001b[1m0s\u001b[0m 21ms/step\n",
      "\u001b[1m1/1\u001b[0m \u001b[32m━━━━━━━━━━━━━━━━━━━━\u001b[0m\u001b[37m\u001b[0m \u001b[1m0s\u001b[0m 17ms/step\n",
      "\u001b[1m1/1\u001b[0m \u001b[32m━━━━━━━━━━━━━━━━━━━━\u001b[0m\u001b[37m\u001b[0m \u001b[1m0s\u001b[0m 17ms/step\n",
      "\u001b[1m1/1\u001b[0m \u001b[32m━━━━━━━━━━━━━━━━━━━━\u001b[0m\u001b[37m\u001b[0m \u001b[1m0s\u001b[0m 17ms/step\n",
      "\u001b[1m1/1\u001b[0m \u001b[32m━━━━━━━━━━━━━━━━━━━━\u001b[0m\u001b[37m\u001b[0m \u001b[1m0s\u001b[0m 17ms/step\n",
      "\u001b[1m1/1\u001b[0m \u001b[32m━━━━━━━━━━━━━━━━━━━━\u001b[0m\u001b[37m\u001b[0m \u001b[1m0s\u001b[0m 18ms/step\n",
      "\u001b[1m1/1\u001b[0m \u001b[32m━━━━━━━━━━━━━━━━━━━━\u001b[0m\u001b[37m\u001b[0m \u001b[1m0s\u001b[0m 18ms/step\n",
      "\u001b[1m1/1\u001b[0m \u001b[32m━━━━━━━━━━━━━━━━━━━━\u001b[0m\u001b[37m\u001b[0m \u001b[1m0s\u001b[0m 18ms/step\n",
      "\u001b[1m1/1\u001b[0m \u001b[32m━━━━━━━━━━━━━━━━━━━━\u001b[0m\u001b[37m\u001b[0m \u001b[1m0s\u001b[0m 18ms/step\n",
      "\u001b[1m1/1\u001b[0m \u001b[32m━━━━━━━━━━━━━━━━━━━━\u001b[0m\u001b[37m\u001b[0m \u001b[1m0s\u001b[0m 17ms/step\n",
      "\u001b[1m1/1\u001b[0m \u001b[32m━━━━━━━━━━━━━━━━━━━━\u001b[0m\u001b[37m\u001b[0m \u001b[1m0s\u001b[0m 18ms/step\n",
      "\u001b[1m1/1\u001b[0m \u001b[32m━━━━━━━━━━━━━━━━━━━━\u001b[0m\u001b[37m\u001b[0m \u001b[1m0s\u001b[0m 18ms/step\n",
      "\u001b[1m1/1\u001b[0m \u001b[32m━━━━━━━━━━━━━━━━━━━━\u001b[0m\u001b[37m\u001b[0m \u001b[1m0s\u001b[0m 18ms/step\n",
      "\u001b[1m1/1\u001b[0m \u001b[32m━━━━━━━━━━━━━━━━━━━━\u001b[0m\u001b[37m\u001b[0m \u001b[1m0s\u001b[0m 18ms/step\n",
      "\u001b[1m1/1\u001b[0m \u001b[32m━━━━━━━━━━━━━━━━━━━━\u001b[0m\u001b[37m\u001b[0m \u001b[1m0s\u001b[0m 17ms/step\n",
      "\u001b[1m1/1\u001b[0m \u001b[32m━━━━━━━━━━━━━━━━━━━━\u001b[0m\u001b[37m\u001b[0m \u001b[1m0s\u001b[0m 17ms/step\n",
      "\u001b[1m1/1\u001b[0m \u001b[32m━━━━━━━━━━━━━━━━━━━━\u001b[0m\u001b[37m\u001b[0m \u001b[1m0s\u001b[0m 18ms/step\n",
      "\u001b[1m1/1\u001b[0m \u001b[32m━━━━━━━━━━━━━━━━━━━━\u001b[0m\u001b[37m\u001b[0m \u001b[1m0s\u001b[0m 18ms/step\n",
      "\u001b[1m1/1\u001b[0m \u001b[32m━━━━━━━━━━━━━━━━━━━━\u001b[0m\u001b[37m\u001b[0m \u001b[1m0s\u001b[0m 16ms/step\n",
      "\u001b[1m1/1\u001b[0m \u001b[32m━━━━━━━━━━━━━━━━━━━━\u001b[0m\u001b[37m\u001b[0m \u001b[1m0s\u001b[0m 16ms/step\n",
      "\u001b[1m1/1\u001b[0m \u001b[32m━━━━━━━━━━━━━━━━━━━━\u001b[0m\u001b[37m\u001b[0m \u001b[1m0s\u001b[0m 17ms/step\n",
      "\u001b[1m1/1\u001b[0m \u001b[32m━━━━━━━━━━━━━━━━━━━━\u001b[0m\u001b[37m\u001b[0m \u001b[1m0s\u001b[0m 18ms/step\n",
      "\u001b[1m1/1\u001b[0m \u001b[32m━━━━━━━━━━━━━━━━━━━━\u001b[0m\u001b[37m\u001b[0m \u001b[1m0s\u001b[0m 17ms/step\n",
      "\u001b[1m1/1\u001b[0m \u001b[32m━━━━━━━━━━━━━━━━━━━━\u001b[0m\u001b[37m\u001b[0m \u001b[1m0s\u001b[0m 17ms/step\n",
      "\u001b[1m1/1\u001b[0m \u001b[32m━━━━━━━━━━━━━━━━━━━━\u001b[0m\u001b[37m\u001b[0m \u001b[1m0s\u001b[0m 19ms/step\n",
      "\u001b[1m1/1\u001b[0m \u001b[32m━━━━━━━━━━━━━━━━━━━━\u001b[0m\u001b[37m\u001b[0m \u001b[1m0s\u001b[0m 18ms/step\n",
      "\u001b[1m1/1\u001b[0m \u001b[32m━━━━━━━━━━━━━━━━━━━━\u001b[0m\u001b[37m\u001b[0m \u001b[1m0s\u001b[0m 17ms/step\n",
      "\u001b[1m1/1\u001b[0m \u001b[32m━━━━━━━━━━━━━━━━━━━━\u001b[0m\u001b[37m\u001b[0m \u001b[1m0s\u001b[0m 18ms/step\n",
      "\u001b[1m1/1\u001b[0m \u001b[32m━━━━━━━━━━━━━━━━━━━━\u001b[0m\u001b[37m\u001b[0m \u001b[1m0s\u001b[0m 18ms/step\n",
      "\u001b[1m1/1\u001b[0m \u001b[32m━━━━━━━━━━━━━━━━━━━━\u001b[0m\u001b[37m\u001b[0m \u001b[1m0s\u001b[0m 17ms/step\n",
      "\u001b[1m1/1\u001b[0m \u001b[32m━━━━━━━━━━━━━━━━━━━━\u001b[0m\u001b[37m\u001b[0m \u001b[1m0s\u001b[0m 18ms/step\n",
      "\u001b[1m1/1\u001b[0m \u001b[32m━━━━━━━━━━━━━━━━━━━━\u001b[0m\u001b[37m\u001b[0m \u001b[1m0s\u001b[0m 19ms/step\n",
      "\u001b[1m1/1\u001b[0m \u001b[32m━━━━━━━━━━━━━━━━━━━━\u001b[0m\u001b[37m\u001b[0m \u001b[1m0s\u001b[0m 18ms/step\n",
      "\u001b[1m1/1\u001b[0m \u001b[32m━━━━━━━━━━━━━━━━━━━━\u001b[0m\u001b[37m\u001b[0m \u001b[1m0s\u001b[0m 18ms/step\n",
      "\u001b[1m1/1\u001b[0m \u001b[32m━━━━━━━━━━━━━━━━━━━━\u001b[0m\u001b[37m\u001b[0m \u001b[1m0s\u001b[0m 17ms/step\n",
      "\u001b[1m1/1\u001b[0m \u001b[32m━━━━━━━━━━━━━━━━━━━━\u001b[0m\u001b[37m\u001b[0m \u001b[1m0s\u001b[0m 18ms/step\n",
      "\u001b[1m1/1\u001b[0m \u001b[32m━━━━━━━━━━━━━━━━━━━━\u001b[0m\u001b[37m\u001b[0m \u001b[1m0s\u001b[0m 16ms/step\n",
      "\u001b[1m1/1\u001b[0m \u001b[32m━━━━━━━━━━━━━━━━━━━━\u001b[0m\u001b[37m\u001b[0m \u001b[1m0s\u001b[0m 18ms/step\n",
      "\u001b[1m1/1\u001b[0m \u001b[32m━━━━━━━━━━━━━━━━━━━━\u001b[0m\u001b[37m\u001b[0m \u001b[1m0s\u001b[0m 17ms/step\n",
      "\u001b[1m1/1\u001b[0m \u001b[32m━━━━━━━━━━━━━━━━━━━━\u001b[0m\u001b[37m\u001b[0m \u001b[1m0s\u001b[0m 16ms/step\n",
      "\u001b[1m1/1\u001b[0m \u001b[32m━━━━━━━━━━━━━━━━━━━━\u001b[0m\u001b[37m\u001b[0m \u001b[1m0s\u001b[0m 17ms/step\n",
      "\u001b[1m1/1\u001b[0m \u001b[32m━━━━━━━━━━━━━━━━━━━━\u001b[0m\u001b[37m\u001b[0m \u001b[1m0s\u001b[0m 17ms/step\n",
      "\u001b[1m1/1\u001b[0m \u001b[32m━━━━━━━━━━━━━━━━━━━━\u001b[0m\u001b[37m\u001b[0m \u001b[1m0s\u001b[0m 18ms/step\n",
      "\u001b[1m1/1\u001b[0m \u001b[32m━━━━━━━━━━━━━━━━━━━━\u001b[0m\u001b[37m\u001b[0m \u001b[1m0s\u001b[0m 17ms/step\n",
      "\u001b[1m1/1\u001b[0m \u001b[32m━━━━━━━━━━━━━━━━━━━━\u001b[0m\u001b[37m\u001b[0m \u001b[1m0s\u001b[0m 19ms/step\n",
      "\u001b[1m1/1\u001b[0m \u001b[32m━━━━━━━━━━━━━━━━━━━━\u001b[0m\u001b[37m\u001b[0m \u001b[1m0s\u001b[0m 17ms/step\n",
      "\u001b[1m1/1\u001b[0m \u001b[32m━━━━━━━━━━━━━━━━━━━━\u001b[0m\u001b[37m\u001b[0m \u001b[1m0s\u001b[0m 18ms/step\n",
      "\u001b[1m1/1\u001b[0m \u001b[32m━━━━━━━━━━━━━━━━━━━━\u001b[0m\u001b[37m\u001b[0m \u001b[1m0s\u001b[0m 16ms/step\n",
      "\u001b[1m1/1\u001b[0m \u001b[32m━━━━━━━━━━━━━━━━━━━━\u001b[0m\u001b[37m\u001b[0m \u001b[1m0s\u001b[0m 17ms/step\n",
      "\u001b[1m1/1\u001b[0m \u001b[32m━━━━━━━━━━━━━━━━━━━━\u001b[0m\u001b[37m\u001b[0m \u001b[1m0s\u001b[0m 18ms/step\n",
      "\u001b[1m1/1\u001b[0m \u001b[32m━━━━━━━━━━━━━━━━━━━━\u001b[0m\u001b[37m\u001b[0m \u001b[1m0s\u001b[0m 17ms/step\n",
      "\u001b[1m1/1\u001b[0m \u001b[32m━━━━━━━━━━━━━━━━━━━━\u001b[0m\u001b[37m\u001b[0m \u001b[1m0s\u001b[0m 18ms/step\n",
      "\u001b[1m1/1\u001b[0m \u001b[32m━━━━━━━━━━━━━━━━━━━━\u001b[0m\u001b[37m\u001b[0m \u001b[1m0s\u001b[0m 18ms/step\n",
      "\u001b[1m1/1\u001b[0m \u001b[32m━━━━━━━━━━━━━━━━━━━━\u001b[0m\u001b[37m\u001b[0m \u001b[1m0s\u001b[0m 16ms/step\n",
      "\u001b[1m1/1\u001b[0m \u001b[32m━━━━━━━━━━━━━━━━━━━━\u001b[0m\u001b[37m\u001b[0m \u001b[1m0s\u001b[0m 17ms/step\n",
      "\u001b[1m1/1\u001b[0m \u001b[32m━━━━━━━━━━━━━━━━━━━━\u001b[0m\u001b[37m\u001b[0m \u001b[1m0s\u001b[0m 18ms/step\n",
      "\u001b[1m1/1\u001b[0m \u001b[32m━━━━━━━━━━━━━━━━━━━━\u001b[0m\u001b[37m\u001b[0m \u001b[1m0s\u001b[0m 16ms/step\n",
      "Last Timestamp: 2023-10-30 05:55:00\n",
      "Forecast Date Range: DatetimeIndex(['2023-10-30 05:55:00', '2023-10-31 05:55:00',\n",
      "               '2023-11-01 05:55:00', '2023-11-02 05:55:00',\n",
      "               '2023-11-03 05:55:00', '2023-11-04 05:55:00',\n",
      "               '2023-11-05 05:55:00', '2023-11-06 05:55:00',\n",
      "               '2023-11-07 05:55:00', '2023-11-08 05:55:00',\n",
      "               '2023-11-09 05:55:00', '2023-11-10 05:55:00',\n",
      "               '2023-11-11 05:55:00', '2023-11-12 05:55:00',\n",
      "               '2023-11-13 05:55:00', '2023-11-14 05:55:00',\n",
      "               '2023-11-15 05:55:00', '2023-11-16 05:55:00',\n",
      "               '2023-11-17 05:55:00', '2023-11-18 05:55:00',\n",
      "               '2023-11-19 05:55:00', '2023-11-20 05:55:00',\n",
      "               '2023-11-21 05:55:00', '2023-11-22 05:55:00',\n",
      "               '2023-11-23 05:55:00', '2023-11-24 05:55:00',\n",
      "               '2023-11-25 05:55:00', '2023-11-26 05:55:00',\n",
      "               '2023-11-27 05:55:00', '2023-11-28 05:55:00',\n",
      "               '2023-11-29 05:55:00', '2023-11-30 05:55:00',\n",
      "               '2023-12-01 05:55:00', '2023-12-02 05:55:00',\n",
      "               '2023-12-03 05:55:00', '2023-12-04 05:55:00',\n",
      "               '2023-12-05 05:55:00', '2023-12-06 05:55:00',\n",
      "               '2023-12-07 05:55:00', '2023-12-08 05:55:00',\n",
      "               '2023-12-09 05:55:00', '2023-12-10 05:55:00',\n",
      "               '2023-12-11 05:55:00', '2023-12-12 05:55:00',\n",
      "               '2023-12-13 05:55:00', '2023-12-14 05:55:00',\n",
      "               '2023-12-15 05:55:00', '2023-12-16 05:55:00',\n",
      "               '2023-12-17 05:55:00', '2023-12-18 05:55:00',\n",
      "               '2023-12-19 05:55:00', '2023-12-20 05:55:00',\n",
      "               '2023-12-21 05:55:00', '2023-12-22 05:55:00',\n",
      "               '2023-12-23 05:55:00', '2023-12-24 05:55:00',\n",
      "               '2023-12-25 05:55:00', '2023-12-26 05:55:00',\n",
      "               '2023-12-27 05:55:00', '2023-12-28 05:55:00',\n",
      "               '2023-12-29 05:55:00', '2023-12-30 05:55:00',\n",
      "               '2023-12-31 05:55:00', '2024-01-01 05:55:00',\n",
      "               '2024-01-02 05:55:00', '2024-01-03 05:55:00',\n",
      "               '2024-01-04 05:55:00', '2024-01-05 05:55:00',\n",
      "               '2024-01-06 05:55:00', '2024-01-07 05:55:00',\n",
      "               '2024-01-08 05:55:00', '2024-01-09 05:55:00',\n",
      "               '2024-01-10 05:55:00', '2024-01-11 05:55:00',\n",
      "               '2024-01-12 05:55:00', '2024-01-13 05:55:00',\n",
      "               '2024-01-14 05:55:00', '2024-01-15 05:55:00',\n",
      "               '2024-01-16 05:55:00', '2024-01-17 05:55:00',\n",
      "               '2024-01-18 05:55:00', '2024-01-19 05:55:00',\n",
      "               '2024-01-20 05:55:00', '2024-01-21 05:55:00',\n",
      "               '2024-01-22 05:55:00', '2024-01-23 05:55:00',\n",
      "               '2024-01-24 05:55:00', '2024-01-25 05:55:00',\n",
      "               '2024-01-26 05:55:00', '2024-01-27 05:55:00',\n",
      "               '2024-01-28 05:55:00', '2024-01-29 05:55:00',\n",
      "               '2024-01-30 05:55:00', '2024-01-31 05:55:00',\n",
      "               '2024-02-01 05:55:00', '2024-02-02 05:55:00',\n",
      "               '2024-02-03 05:55:00', '2024-02-04 05:55:00',\n",
      "               '2024-02-05 05:55:00', '2024-02-06 05:55:00'],\n",
      "              dtype='datetime64[ns]', freq='D')\n"
     ]
    },
    {
     "data": {
      "image/png": "[encoded data removed]",
      "text/plain": [
       "<Figure size 1000x600 with 1 Axes>"
      ]
     },
     "metadata": {},
     "output_type": "display_data"
    }
   ],
   "source": [
    "import pandas as pd\n",
    "import numpy as np\n",
    "from sklearn.preprocessing import MinMaxScaler\n",
    "import tensorflow as tf\n",
    "from tensorflow.keras.models import Sequential\n",
    "from tensorflow.keras.layers import LSTM, Dense\n",
    "import matplotlib.pyplot as plt\n",
    "\n",
    "# Load the dataset\n",
    "data = pd.read_csv('Bussiness_facility/combined_data.csv')\n",
    "\n",
    "# Convert the 'Time' column to datetime\n",
    "data['Time'] = pd.to_datetime(data['Time'], errors='coerce')\n",
    "\n",
    "# Remove the 'Time' column before setting it as the index\n",
    "data.set_index('Time', inplace=True)\n",
    "\n",
    "# Function to prepare data for LSTM\n",
    "def prepare_data_for_lstm(data, target_column, look_back=1):\n",
    "    scaler = MinMaxScaler(feature_range=(0, 1))\n",
    "    dataset = scaler.fit_transform(data[[target_column]])\n",
    "\n",
    "    X, Y = [], []\n",
    "    for i in range(len(dataset) - look_back):\n",
    "        X.append(dataset[i:(i + look_back), 0])\n",
    "        Y.append(dataset[i + look_back, 0])\n",
    "    return np.array(X), np.array(Y), scaler\n",
    "\n",
    "# Function to create LSTM model\n",
    "def create_lstm_model(look_back):\n",
    "    model = Sequential()\n",
    "    model.add(LSTM(units=50, input_shape=(look_back, 1)))\n",
    "    model.add(Dense(units=1))\n",
    "    model.compile(optimizer='adam', loss='mean_squared_error')\n",
    "    return model\n",
    "\n",
    "# Function to perform time series forecasting using LSTM\n",
    "def forecast_lstm(data, time_column, target_column, look_back=1, epochs=10, batch_size=1, forecast_period=10):\n",
    "    X, Y, scaler = prepare_data_for_lstm(data, target_column, look_back)\n",
    "    X = np.reshape(X, (X.shape[0], X.shape[1], 1))\n",
    "\n",
    "    model = create_lstm_model(look_back)\n",
    "    model.fit(X, Y, epochs=epochs, batch_size=batch_size, verbose=2)\n",
    "\n",
    "    # Make predictions for forecast period\n",
    "    last_input = X[-1]\n",
    "    forecast_data = []\n",
    "    for _ in range(forecast_period):\n",
    "        prediction = model.predict(np.reshape(last_input, (1, look_back, 1)))\n",
    "        forecast_data.append(prediction[0][0])\n",
    "        last_input = np.append(last_input[1:], prediction[0])\n",
    "\n",
    "    # Inverse transform the forecast predictions\n",
    "    forecast_data = scaler.inverse_transform(np.array(forecast_data).reshape(-1, 1))\n",
    "    return forecast_data\n",
    "\n",
    "# Define the forecast period\n",
    "start_date = '2023-10-26 12:25:00'\n",
    "end_date = '2023-11-26 12:25:00'\n",
    "\n",
    "# Prompt user to input target column and time column\n",
    "target_column = input(\"Enter the target column: \")\n",
    "time_column = input(\"Enter the time column: \")\n",
    "\n",
    "# Filter the data for the forecast period\n",
    "forecast_data = data[start_date:end_date]\n",
    "\n",
    "# Perform forecasting\n",
    "forecasted_values = forecast_lstm(forecast_data, time_column=time_column, target_column=target_column, look_back=1, epochs=10, batch_size=1, forecast_period=100)\n",
    "\n",
    "# Plot the original data and forecasted values\n",
    "plt.figure(figsize=(10, 6))\n",
    "plt.plot(data.index, data[target_column], label='Original Data')\n",
    "\n",
    "# Extract the last timestamp from the forecast_data index\n",
    "last_timestamp = forecast_data.index[-1].to_pydatetime()\n",
    "\n",
    "# Print the last timestamp for debugging\n",
    "print(\"Last Timestamp:\", last_timestamp)\n",
    "\n",
    "# Generate date range for forecasted values\n",
    "forecast_date_range = pd.date_range(start=last_timestamp, periods=len(forecasted_values), freq='D')\n",
    "\n",
    "# Print the forecast date range for debugging\n",
    "print(\"Forecast Date Range:\", forecast_date_range)\n",
    "\n",
    "# Plot the forecasted values with the correct date range\n",
    "plt.plot(forecast_date_range, forecasted_values, label='Forecasted Data')\n",
    "plt.xlabel(time_column)\n",
    "plt.ylabel(target_column)\n",
    "plt.title('Original vs Forecasted Data')\n",
    "plt.legend()\n",
    "plt.show()"
   ]
  },
  {
   "cell_type": "code",
   "execution_count": 8,
   "id": "4a6d4110",
   "metadata": {},
   "outputs": [
    {
     "name": "stdout",
     "output_type": "stream",
     "text": [
      "100\n"
     ]
    }
   ],
   "source": [
    "print(len(forecasted_values) )"
   ]
  },
  {
   "cell_type": "code",
   "execution_count": 14,
   "id": "ab967e32",
   "metadata": {},
   "outputs": [
    {
     "name": "stdout",
     "output_type": "stream",
     "text": [
      "Last Timestamp: 2023-10-30 05:55:00\n",
      "Forecast Date Range: DatetimeIndex(['2023-10-30 05:55:00', '2023-10-31 05:55:00',\n",
      "               '2023-11-01 05:55:00', '2023-11-02 05:55:00',\n",
      "               '2023-11-03 05:55:00', '2023-11-04 05:55:00',\n",
      "               '2023-11-05 05:55:00', '2023-11-06 05:55:00',\n",
      "               '2023-11-07 05:55:00', '2023-11-08 05:55:00',\n",
      "               '2023-11-09 05:55:00', '2023-11-10 05:55:00',\n",
      "               '2023-11-11 05:55:00', '2023-11-12 05:55:00',\n",
      "               '2023-11-13 05:55:00', '2023-11-14 05:55:00',\n",
      "               '2023-11-15 05:55:00', '2023-11-16 05:55:00',\n",
      "               '2023-11-17 05:55:00', '2023-11-18 05:55:00',\n",
      "               '2023-11-19 05:55:00', '2023-11-20 05:55:00',\n",
      "               '2023-11-21 05:55:00', '2023-11-22 05:55:00',\n",
      "               '2023-11-23 05:55:00', '2023-11-24 05:55:00',\n",
      "               '2023-11-25 05:55:00', '2023-11-26 05:55:00',\n",
      "               '2023-11-27 05:55:00', '2023-11-28 05:55:00',\n",
      "               '2023-11-29 05:55:00', '2023-11-30 05:55:00',\n",
      "               '2023-12-01 05:55:00', '2023-12-02 05:55:00',\n",
      "               '2023-12-03 05:55:00', '2023-12-04 05:55:00',\n",
      "               '2023-12-05 05:55:00', '2023-12-06 05:55:00',\n",
      "               '2023-12-07 05:55:00', '2023-12-08 05:55:00',\n",
      "               '2023-12-09 05:55:00', '2023-12-10 05:55:00',\n",
      "               '2023-12-11 05:55:00', '2023-12-12 05:55:00',\n",
      "               '2023-12-13 05:55:00', '2023-12-14 05:55:00',\n",
      "               '2023-12-15 05:55:00', '2023-12-16 05:55:00',\n",
      "               '2023-12-17 05:55:00', '2023-12-18 05:55:00',\n",
      "               '2023-12-19 05:55:00', '2023-12-20 05:55:00',\n",
      "               '2023-12-21 05:55:00', '2023-12-22 05:55:00',\n",
      "               '2023-12-23 05:55:00', '2023-12-24 05:55:00',\n",
      "               '2023-12-25 05:55:00', '2023-12-26 05:55:00',\n",
      "               '2023-12-27 05:55:00', '2023-12-28 05:55:00',\n",
      "               '2023-12-29 05:55:00', '2023-12-30 05:55:00',\n",
      "               '2023-12-31 05:55:00', '2024-01-01 05:55:00',\n",
      "               '2024-01-02 05:55:00', '2024-01-03 05:55:00',\n",
      "               '2024-01-04 05:55:00', '2024-01-05 05:55:00',\n",
      "               '2024-01-06 05:55:00', '2024-01-07 05:55:00',\n",
      "               '2024-01-08 05:55:00', '2024-01-09 05:55:00',\n",
      "               '2024-01-10 05:55:00', '2024-01-11 05:55:00',\n",
      "               '2024-01-12 05:55:00', '2024-01-13 05:55:00',\n",
      "               '2024-01-14 05:55:00', '2024-01-15 05:55:00',\n",
      "               '2024-01-16 05:55:00', '2024-01-17 05:55:00',\n",
      "               '2024-01-18 05:55:00', '2024-01-19 05:55:00',\n",
      "               '2024-01-20 05:55:00', '2024-01-21 05:55:00',\n",
      "               '2024-01-22 05:55:00', '2024-01-23 05:55:00',\n",
      "               '2024-01-24 05:55:00', '2024-01-25 05:55:00',\n",
      "               '2024-01-26 05:55:00', '2024-01-27 05:55:00',\n",
      "               '2024-01-28 05:55:00', '2024-01-29 05:55:00',\n",
      "               '2024-01-30 05:55:00', '2024-01-31 05:55:00',\n",
      "               '2024-02-01 05:55:00', '2024-02-02 05:55:00',\n",
      "               '2024-02-03 05:55:00', '2024-02-04 05:55:00',\n",
      "               '2024-02-05 05:55:00', '2024-02-06 05:55:00'],\n",
      "              dtype='datetime64[ns]', freq='D')\n"
     ]
    },
    {
     "data": {
      "image/png": "[encoded data removed]",
      "text/plain": [
       "<Figure size 1000x600 with 1 Axes>"
      ]
     },
     "metadata": {},
     "output_type": "display_data"
    }
   ],
   "source": [
    "# Plot the original data and forecasted values\n",
    "plt.figure(figsize=(10, 6))\n",
    "plt.plot(data.index, data[target_column], label='Original Data')\n",
    "\n",
    "# Extract the last timestamp from the forecast_data index\n",
    "last_timestamp = forecast_data.index[-1].to_pydatetime()\n",
    "\n",
    "# Print the last timestamp for debugging\n",
    "print(\"Last Timestamp:\", last_timestamp)\n",
    "\n",
    "# Generate date range for forecasted values\n",
    "forecast_date_range = pd.date_range(start=last_timestamp, periods=len(forecasted_values), freq='D')\n",
    "\n",
    "# Print the forecast date range for debugging\n",
    "print(\"Forecast Date Range:\", forecast_date_range)\n",
    "\n",
    "# Plot the forecasted values with the correct date range\n",
    "plt.plot(forecast_date_range, forecasted_values, label='Forecasted Data')\n",
    "plt.xlabel(time_column)\n",
    "plt.ylabel(target_column)\n",
    "plt.title('Original vs Forecasted Data')\n",
    "plt.legend()\n",
    "plt.show()\n"
   ]
  },
  {
   "cell_type": "code",
   "execution_count": 15,
   "id": "a6cbc6a4",
   "metadata": {},
   "outputs": [
    {
     "name": "stdout",
     "output_type": "stream",
     "text": [
      "Timestamp: 2023-10-30 05:55:00 | Forecasted Value: [119.896675]\n",
      "Timestamp: 2023-10-31 05:55:00 | Forecasted Value: [121.36255]\n",
      "Timestamp: 2023-11-01 05:55:00 | Forecasted Value: [122.81564]\n",
      "Timestamp: 2023-11-02 05:55:00 | Forecasted Value: [124.2561]\n",
      "Timestamp: 2023-11-03 05:55:00 | Forecasted Value: [125.68405]\n",
      "Timestamp: 2023-11-04 05:55:00 | Forecasted Value: [127.09965]\n",
      "Timestamp: 2023-11-05 05:55:00 | Forecasted Value: [128.503]\n",
      "Timestamp: 2023-11-06 05:55:00 | Forecasted Value: [129.89426]\n",
      "Timestamp: 2023-11-07 05:55:00 | Forecasted Value: [131.27351]\n",
      "Timestamp: 2023-11-08 05:55:00 | Forecasted Value: [132.64095]\n",
      "Timestamp: 2023-11-09 05:55:00 | Forecasted Value: [133.99663]\n",
      "Timestamp: 2023-11-10 05:55:00 | Forecasted Value: [135.3407]\n",
      "Timestamp: 2023-11-11 05:55:00 | Forecasted Value: [136.67328]\n",
      "Timestamp: 2023-11-12 05:55:00 | Forecasted Value: [137.99449]\n",
      "Timestamp: 2023-11-13 05:55:00 | Forecasted Value: [139.30443]\n",
      "Timestamp: 2023-11-14 05:55:00 | Forecasted Value: [140.60323]\n",
      "Timestamp: 2023-11-15 05:55:00 | Forecasted Value: [141.89095]\n",
      "Timestamp: 2023-11-16 05:55:00 | Forecasted Value: [143.1677]\n",
      "Timestamp: 2023-11-17 05:55:00 | Forecasted Value: [144.43361]\n",
      "Timestamp: 2023-11-18 05:55:00 | Forecasted Value: [145.68875]\n",
      "Timestamp: 2023-11-19 05:55:00 | Forecasted Value: [146.93326]\n",
      "Timestamp: 2023-11-20 05:55:00 | Forecasted Value: [148.16714]\n",
      "Timestamp: 2023-11-21 05:55:00 | Forecasted Value: [149.39053]\n",
      "Timestamp: 2023-11-22 05:55:00 | Forecasted Value: [150.60353]\n",
      "Timestamp: 2023-11-23 05:55:00 | Forecasted Value: [151.80618]\n",
      "Timestamp: 2023-11-24 05:55:00 | Forecasted Value: [152.99857]\n",
      "Timestamp: 2023-11-25 05:55:00 | Forecasted Value: [154.18077]\n",
      "Timestamp: 2023-11-26 05:55:00 | Forecasted Value: [155.35286]\n",
      "Timestamp: 2023-11-27 05:55:00 | Forecasted Value: [156.51491]\n",
      "Timestamp: 2023-11-28 05:55:00 | Forecasted Value: [157.66696]\n",
      "Timestamp: 2023-11-29 05:55:00 | Forecasted Value: [158.80908]\n",
      "Timestamp: 2023-11-30 05:55:00 | Forecasted Value: [159.94135]\n",
      "Timestamp: 2023-12-01 05:55:00 | Forecasted Value: [161.06381]\n",
      "Timestamp: 2023-12-02 05:55:00 | Forecasted Value: [162.17651]\n",
      "Timestamp: 2023-12-03 05:55:00 | Forecasted Value: [163.27948]\n",
      "Timestamp: 2023-12-04 05:55:00 | Forecasted Value: [164.37283]\n",
      "Timestamp: 2023-12-05 05:55:00 | Forecasted Value: [165.45654]\n",
      "Timestamp: 2023-12-06 05:55:00 | Forecasted Value: [166.5307]\n",
      "Timestamp: 2023-12-07 05:55:00 | Forecasted Value: [167.59534]\n",
      "Timestamp: 2023-12-08 05:55:00 | Forecasted Value: [168.65051]\n",
      "Timestamp: 2023-12-09 05:55:00 | Forecasted Value: [169.69617]\n",
      "Timestamp: 2023-12-10 05:55:00 | Forecasted Value: [170.73245]\n",
      "Timestamp: 2023-12-11 05:55:00 | Forecasted Value: [171.75935]\n",
      "Timestamp: 2023-12-12 05:55:00 | Forecasted Value: [172.77689]\n",
      "Timestamp: 2023-12-13 05:55:00 | Forecasted Value: [173.78513]\n",
      "Timestamp: 2023-12-14 05:55:00 | Forecasted Value: [174.78406]\n",
      "Timestamp: 2023-12-15 05:55:00 | Forecasted Value: [175.77376]\n",
      "Timestamp: 2023-12-16 05:55:00 | Forecasted Value: [176.7542]\n",
      "Timestamp: 2023-12-17 05:55:00 | Forecasted Value: [177.7254]\n",
      "Timestamp: 2023-12-18 05:55:00 | Forecasted Value: [178.68742]\n",
      "Timestamp: 2023-12-19 05:55:00 | Forecasted Value: [179.64029]\n",
      "Timestamp: 2023-12-20 05:55:00 | Forecasted Value: [180.584]\n",
      "Timestamp: 2023-12-21 05:55:00 | Forecasted Value: [181.51859]\n",
      "Timestamp: 2023-12-22 05:55:00 | Forecasted Value: [182.44409]\n",
      "Timestamp: 2023-12-23 05:55:00 | Forecasted Value: [183.3605]\n",
      "Timestamp: 2023-12-24 05:55:00 | Forecasted Value: [184.2678]\n",
      "Timestamp: 2023-12-25 05:55:00 | Forecasted Value: [185.16608]\n",
      "Timestamp: 2023-12-26 05:55:00 | Forecasted Value: [186.0553]\n",
      "Timestamp: 2023-12-27 05:55:00 | Forecasted Value: [186.9355]\n",
      "Timestamp: 2023-12-28 05:55:00 | Forecasted Value: [187.80672]\n",
      "Timestamp: 2023-12-29 05:55:00 | Forecasted Value: [188.66893]\n",
      "Timestamp: 2023-12-30 05:55:00 | Forecasted Value: [189.5222]\n",
      "Timestamp: 2023-12-31 05:55:00 | Forecasted Value: [190.36649]\n",
      "Timestamp: 2024-01-01 05:55:00 | Forecasted Value: [191.20187]\n",
      "Timestamp: 2024-01-02 05:55:00 | Forecasted Value: [192.02835]\n",
      "Timestamp: 2024-01-03 05:55:00 | Forecasted Value: [192.8459]\n",
      "Timestamp: 2024-01-04 05:55:00 | Forecasted Value: [193.65456]\n",
      "Timestamp: 2024-01-05 05:55:00 | Forecasted Value: [194.45433]\n",
      "Timestamp: 2024-01-06 05:55:00 | Forecasted Value: [195.24529]\n",
      "Timestamp: 2024-01-07 05:55:00 | Forecasted Value: [196.02742]\n",
      "Timestamp: 2024-01-08 05:55:00 | Forecasted Value: [196.80077]\n",
      "Timestamp: 2024-01-09 05:55:00 | Forecasted Value: [197.56529]\n",
      "Timestamp: 2024-01-10 05:55:00 | Forecasted Value: [198.32104]\n",
      "Timestamp: 2024-01-11 05:55:00 | Forecasted Value: [199.06807]\n",
      "Timestamp: 2024-01-12 05:55:00 | Forecasted Value: [199.80637]\n",
      "Timestamp: 2024-01-13 05:55:00 | Forecasted Value: [200.53596]\n",
      "Timestamp: 2024-01-14 05:55:00 | Forecasted Value: [201.25691]\n",
      "Timestamp: 2024-01-15 05:55:00 | Forecasted Value: [201.96918]\n",
      "Timestamp: 2024-01-16 05:55:00 | Forecasted Value: [202.67285]\n",
      "Timestamp: 2024-01-17 05:55:00 | Forecasted Value: [203.36787]\n",
      "Timestamp: 2024-01-18 05:55:00 | Forecasted Value: [204.05437]\n",
      "Timestamp: 2024-01-19 05:55:00 | Forecasted Value: [204.73233]\n",
      "Timestamp: 2024-01-20 05:55:00 | Forecasted Value: [205.40176]\n",
      "Timestamp: 2024-01-21 05:55:00 | Forecasted Value: [206.06274]\n",
      "Timestamp: 2024-01-22 05:55:00 | Forecasted Value: [206.71526]\n",
      "Timestamp: 2024-01-23 05:55:00 | Forecasted Value: [207.35936]\n",
      "Timestamp: 2024-01-24 05:55:00 | Forecasted Value: [207.99512]\n",
      "Timestamp: 2024-01-25 05:55:00 | Forecasted Value: [208.62254]\n",
      "Timestamp: 2024-01-26 05:55:00 | Forecasted Value: [209.24167]\n",
      "Timestamp: 2024-01-27 05:55:00 | Forecasted Value: [209.85257]\n",
      "Timestamp: 2024-01-28 05:55:00 | Forecasted Value: [210.45528]\n",
      "Timestamp: 2024-01-29 05:55:00 | Forecasted Value: [211.04974]\n",
      "Timestamp: 2024-01-30 05:55:00 | Forecasted Value: [211.6361]\n",
      "Timestamp: 2024-01-31 05:55:00 | Forecasted Value: [212.21436]\n",
      "Timestamp: 2024-02-01 05:55:00 | Forecasted Value: [212.78462]\n",
      "Timestamp: 2024-02-02 05:55:00 | Forecasted Value: [213.34688]\n",
      "Timestamp: 2024-02-03 05:55:00 | Forecasted Value: [213.90117]\n",
      "Timestamp: 2024-02-04 05:55:00 | Forecasted Value: [214.44763]\n",
      "Timestamp: 2024-02-05 05:55:00 | Forecasted Value: [214.98627]\n",
      "Timestamp: 2024-02-06 05:55:00 | Forecasted Value: [215.51707]\n"
     ]
    }
   ],
   "source": [
    "# Print the timestamp along with the corresponding forecasted value\n",
    "for timestamp, value in zip(forecast_date_range, forecasted_values):\n",
    "    print(\"Timestamp:\", timestamp, \"| Forecasted Value:\", value)\n"
   ]
  },
  {
   "cell_type": "markdown",
   "id": "b43dd4a9",
   "metadata": {},
   "source": [
    "# NEW"
   ]
  },
  {
   "cell_type": "code",
   "execution_count": 18,
   "id": "d9524387",
   "metadata": {},
   "outputs": [
    {
     "name": "stdout",
     "output_type": "stream",
     "text": [
      "Enter the target column: BG\n",
      "Enter the time column: Time\n",
      "Epoch 1/10\n"
     ]
    },
    {
     "name": "stderr",
     "output_type": "stream",
     "text": [
      "/root/anaconda3/envs/py39/lib/python3.9/site-packages/keras/src/layers/rnn/rnn.py:205: UserWarning: Do not pass an `input_shape`/`input_dim` argument to a layer. When using Sequential models, prefer using an `Input(shape)` object as the first layer in the model instead.\n",
      "  super().__init__(**kwargs)\n"
     ]
    },
    {
     "name": "stdout",
     "output_type": "stream",
     "text": [
      "31679/31679 - 83s - 3ms/step - loss: 3.6862e-04\n",
      "Epoch 2/10\n",
      "31679/31679 - 83s - 3ms/step - loss: 1.9881e-04\n",
      "Epoch 3/10\n",
      "31679/31679 - 85s - 3ms/step - loss: 1.9290e-04\n",
      "Epoch 4/10\n",
      "31679/31679 - 79s - 3ms/step - loss: 1.9195e-04\n",
      "Epoch 5/10\n",
      "31679/31679 - 81s - 3ms/step - loss: 1.9110e-04\n",
      "Epoch 6/10\n",
      "31679/31679 - 82s - 3ms/step - loss: 1.8836e-04\n",
      "Epoch 7/10\n",
      "31679/31679 - 83s - 3ms/step - loss: 1.8657e-04\n",
      "Epoch 8/10\n",
      "31679/31679 - 82s - 3ms/step - loss: 1.8409e-04\n",
      "Epoch 9/10\n",
      "31679/31679 - 72s - 2ms/step - loss: 1.8418e-04\n",
      "Epoch 10/10\n",
      "31679/31679 - 71s - 2ms/step - loss: 1.8277e-04\n",
      "\u001b[1m1/1\u001b[0m \u001b[32m━━━━━━━━━━━━━━━━━━━━\u001b[0m\u001b[37m\u001b[0m \u001b[1m0s\u001b[0m 151ms/step\n",
      "Forecasted Value for 2025-11-26 12:25:00 : [117.9598]\n"
     ]
    }
   ],
   "source": [
    "import pandas as pd\n",
    "import numpy as np\n",
    "from sklearn.preprocessing import MinMaxScaler\n",
    "import tensorflow as tf\n",
    "from tensorflow.keras.models import Sequential\n",
    "from tensorflow.keras.layers import LSTM, Dense\n",
    "import matplotlib.pyplot as plt\n",
    "\n",
    "# Load the dataset\n",
    "data = pd.read_csv('Bussiness_facility/combined_data.csv')\n",
    "\n",
    "# Convert the 'Time' column to datetime\n",
    "data['Time'] = pd.to_datetime(data['Time'], errors='coerce')\n",
    "\n",
    "# Remove the 'Time' column before setting it as the index\n",
    "data.set_index('Time', inplace=True)\n",
    "\n",
    "# Function to prepare data for LSTM\n",
    "def prepare_data_for_lstm(data, target_column, look_back=1):\n",
    "    scaler = MinMaxScaler(feature_range=(0, 1))\n",
    "    dataset = scaler.fit_transform(data[[target_column]])\n",
    "\n",
    "    X, Y = [], []\n",
    "    for i in range(len(dataset) - look_back):\n",
    "        X.append(dataset[i:(i + look_back), 0])\n",
    "        Y.append(dataset[i + look_back, 0])\n",
    "    return np.array(X), np.array(Y), scaler\n",
    "\n",
    "# Function to create LSTM model\n",
    "def create_lstm_model(look_back):\n",
    "    model = Sequential()\n",
    "    model.add(LSTM(units=50, input_shape=(look_back, 1)))\n",
    "    model.add(Dense(units=1))\n",
    "    model.compile(optimizer='adam', loss='mean_squared_error')\n",
    "    return model\n",
    "\n",
    "# Function to perform time series forecasting using LSTM\n",
    "def forecast_lstm(data, target_column, look_back=1, epochs=10, batch_size=1, forecast_period=10):\n",
    "    X, Y, scaler = prepare_data_for_lstm(data, target_column, look_back)\n",
    "    X = np.reshape(X, (X.shape[0], X.shape[1], 1))\n",
    "\n",
    "    model = create_lstm_model(look_back)\n",
    "    model.fit(X, Y, epochs=epochs, batch_size=batch_size, verbose=2)\n",
    "\n",
    "    # Make predictions for forecast period\n",
    "    last_input = X[-1]\n",
    "    forecast_data = []\n",
    "    for _ in range(forecast_period):\n",
    "        prediction = model.predict(np.reshape(last_input, (1, look_back, 1)))\n",
    "        forecast_data.append(prediction[0][0])\n",
    "        last_input = np.append(last_input[1:], prediction[0])\n",
    "\n",
    "    # Inverse transform the forecast predictions\n",
    "    forecast_data = scaler.inverse_transform(np.array(forecast_data).reshape(-1, 1))\n",
    "    return forecast_data\n",
    "\n",
    "# Prompt user to input target column\n",
    "target_column = input(\"Enter the target column: \")\n",
    "\n",
    "# Prompt user to input time column\n",
    "time_column = input(\"Enter the time column: \")\n",
    "\n",
    "# Define the prediction date\n",
    "prediction_date = pd.to_datetime('2025-11-26 12:25:00')\n",
    "\n",
    "# Filter the data for training up to the date just before the prediction date\n",
    "historical_data = data[data.index < prediction_date]\n",
    "\n",
    "# Perform forecasting\n",
    "forecasted_value = forecast_lstm(historical_data, target_column=target_column, look_back=1, epochs=10, batch_size=1, forecast_period=1)\n",
    "\n",
    "# Print the forecasted value\n",
    "print(\"Forecasted Value for\", prediction_date, \":\", forecasted_value[0])\n"
   ]
  },
  {
   "cell_type": "markdown",
   "id": "7bd42dda",
   "metadata": {},
   "source": [
    "# T VS F"
   ]
  },
  {
   "cell_type": "code",
   "execution_count": 19,
   "id": "dc47cad0",
   "metadata": {},
   "outputs": [
    {
     "name": "stdout",
     "output_type": "stream",
     "text": [
      "Enter the target column: BG\n",
      "Epoch 1/10\n"
     ]
    },
    {
     "name": "stderr",
     "output_type": "stream",
     "text": [
      "/root/anaconda3/envs/py39/lib/python3.9/site-packages/keras/src/layers/rnn/rnn.py:205: UserWarning: Do not pass an `input_shape`/`input_dim` argument to a layer. When using Sequential models, prefer using an `Input(shape)` object as the first layer in the model instead.\n",
      "  super().__init__(**kwargs)\n"
     ]
    },
    {
     "name": "stdout",
     "output_type": "stream",
     "text": [
      "31679/31679 - 81s - 3ms/step - loss: 4.4735e-04\n",
      "Epoch 2/10\n",
      "31679/31679 - 81s - 3ms/step - loss: 1.9636e-04\n",
      "Epoch 3/10\n",
      "31679/31679 - 84s - 3ms/step - loss: 1.9445e-04\n",
      "Epoch 4/10\n",
      "31679/31679 - 79s - 2ms/step - loss: 1.9231e-04\n",
      "Epoch 5/10\n",
      "31679/31679 - 86s - 3ms/step - loss: 1.9036e-04\n",
      "Epoch 6/10\n",
      "31679/31679 - 84s - 3ms/step - loss: 1.8818e-04\n",
      "Epoch 7/10\n",
      "31679/31679 - 82s - 3ms/step - loss: 1.8730e-04\n",
      "Epoch 8/10\n",
      "31679/31679 - 82s - 3ms/step - loss: 1.8652e-04\n",
      "Epoch 9/10\n",
      "31679/31679 - 79s - 2ms/step - loss: 1.8484e-04\n",
      "Epoch 10/10\n",
      "31679/31679 - 83s - 3ms/step - loss: 1.8189e-04\n"
     ]
    },
    {
     "name": "stderr",
     "output_type": "stream",
     "text": [
      "WARNING:absl:You are saving your model as an HDF5 file via `model.save()` or `keras.saving.save_model(model)`. This file format is considered legacy. We recommend using instead the native Keras format, e.g. `model.save('my_model.keras')` or `keras.saving.save_model(model, 'my_model.keras')`. \n"
     ]
    }
   ],
   "source": [
    "import pandas as pd\n",
    "import numpy as np\n",
    "from sklearn.preprocessing import MinMaxScaler\n",
    "import tensorflow as tf\n",
    "from tensorflow.keras.models import Sequential, load_model\n",
    "from tensorflow.keras.layers import LSTM, Dense\n",
    "import joblib\n",
    "\n",
    "# Load the dataset\n",
    "data = pd.read_csv('Bussiness_facility/combined_data.csv')\n",
    "\n",
    "# Convert the 'Time' column to datetime\n",
    "data['Time'] = pd.to_datetime(data['Time'], errors='coerce')\n",
    "\n",
    "# Remove the 'Time' column before setting it as the index\n",
    "data.set_index('Time', inplace=True)\n",
    "\n",
    "# Function to prepare data for LSTM\n",
    "def prepare_data_for_lstm(data, target_column, look_back=1):\n",
    "    scaler = MinMaxScaler(feature_range=(0, 1))\n",
    "    dataset = scaler.fit_transform(data[[target_column]])\n",
    "\n",
    "    X, Y = [], []\n",
    "    for i in range(len(dataset) - look_back):\n",
    "        X.append(dataset[i:(i + look_back), 0])\n",
    "        Y.append(dataset[i + look_back, 0])\n",
    "    return np.array(X), np.array(Y), scaler\n",
    "\n",
    "# Function to create LSTM model\n",
    "def create_lstm_model(look_back):\n",
    "    model = Sequential()\n",
    "    model.add(LSTM(units=50, input_shape=(look_back, 1)))\n",
    "    model.add(Dense(units=1))\n",
    "    model.compile(optimizer='adam', loss='mean_squared_error')\n",
    "    return model\n",
    "\n",
    "# Function to train and save LSTM model\n",
    "def train_and_save_model(data, target_column, look_back=1, epochs=10, batch_size=1):\n",
    "    X, Y, scaler = prepare_data_for_lstm(data, target_column, look_back)\n",
    "    X = np.reshape(X, (X.shape[0], X.shape[1], 1))\n",
    "\n",
    "    model = create_lstm_model(look_back)\n",
    "    model.fit(X, Y, epochs=epochs, batch_size=batch_size, verbose=2)\n",
    "    \n",
    "    # Save the trained model\n",
    "    model.save('time_series_testing_model/trained_model.h5')\n",
    "    \n",
    "    # Save the scaler object\n",
    "    joblib.dump(scaler, 'time_series_testing_model/scaler.pkl')\n",
    "\n",
    "# Prompt user to input target column\n",
    "target_column = input(\"Enter the target column: \")\n",
    "\n",
    "# Train and save the model\n",
    "train_and_save_model(data, target_column=target_column, look_back=1, epochs=10, batch_size=1)\n"
   ]
  },
  {
   "cell_type": "code",
   "execution_count": 22,
   "id": "17dd4e5d",
   "metadata": {},
   "outputs": [
    {
     "name": "stdout",
     "output_type": "stream",
     "text": [
      "Enter the file path of the dataset: Bussiness_facility/combined_data.csv\n",
      "Enter the time series column: Time\n",
      "Enter the target column: BG\n",
      "Epoch 1/10\n"
     ]
    },
    {
     "name": "stderr",
     "output_type": "stream",
     "text": [
      "/root/anaconda3/envs/py39/lib/python3.9/site-packages/keras/src/layers/rnn/rnn.py:205: UserWarning: Do not pass an `input_shape`/`input_dim` argument to a layer. When using Sequential models, prefer using an `Input(shape)` object as the first layer in the model instead.\n",
      "  super().__init__(**kwargs)\n"
     ]
    },
    {
     "name": "stdout",
     "output_type": "stream",
     "text": [
      "31679/31679 - 82s - 3ms/step - loss: 4.0241e-04\n",
      "Epoch 2/10\n",
      "31679/31679 - 84s - 3ms/step - loss: 1.9897e-04\n",
      "Epoch 3/10\n",
      "31679/31679 - 81s - 3ms/step - loss: 1.9436e-04\n",
      "Epoch 4/10\n",
      "31679/31679 - 81s - 3ms/step - loss: 1.8997e-04\n",
      "Epoch 5/10\n",
      "31679/31679 - 82s - 3ms/step - loss: 1.8967e-04\n",
      "Epoch 6/10\n"
     ]
    },
    {
     "name": "stderr",
     "output_type": "stream",
     "text": [
      "\n",
      "KeyboardInterrupt\n",
      "\n"
     ]
    }
   ],
   "source": [
    "import pandas as pd\n",
    "import numpy as np\n",
    "from sklearn.preprocessing import MinMaxScaler\n",
    "import tensorflow as tf\n",
    "from tensorflow.keras.models import Sequential, load_model\n",
    "from tensorflow.keras.layers import LSTM, Dense\n",
    "import joblib\n",
    "\n",
    "# Load the dataset\n",
    "file_path = input(\"Enter the file path of the dataset: \")\n",
    "data = pd.read_csv(file_path)\n",
    "\n",
    "# Prompt user to input the time series column\n",
    "time_series_column = input(\"Enter the time series column: \")\n",
    "\n",
    "# Prompt user to input the target column\n",
    "target_column = input(\"Enter the target column: \")\n",
    "\n",
    "# Convert the time series column to datetime\n",
    "data[time_series_column] = pd.to_datetime(data[time_series_column], errors='coerce')\n",
    "\n",
    "# Remove the time series column before setting it as the index\n",
    "data.set_index(time_series_column, inplace=True)\n",
    "\n",
    "# Function to prepare data for LSTM\n",
    "def prepare_data_for_lstm(data, target_column, look_back=1):\n",
    "    scaler = MinMaxScaler(feature_range=(0, 1))\n",
    "    dataset = scaler.fit_transform(data[[target_column]])\n",
    "\n",
    "    X, Y = [], []\n",
    "    for i in range(len(dataset) - look_back):\n",
    "        X.append(dataset[i:(i + look_back), 0])\n",
    "        Y.append(dataset[i + look_back, 0])\n",
    "    return np.array(X), np.array(Y), scaler\n",
    "\n",
    "# Function to create LSTM model\n",
    "def create_lstm_model(look_back):\n",
    "    model = Sequential()\n",
    "    model.add(LSTM(units=50, input_shape=(look_back, 1)))\n",
    "    model.add(Dense(units=1))\n",
    "    model.compile(optimizer='adam', loss='mean_squared_error')\n",
    "    return model\n",
    "\n",
    "# Function to train and save LSTM model\n",
    "def train_and_save_model(data, target_column, look_back=1, epochs=10, batch_size=1):\n",
    "    X, Y, scaler = prepare_data_for_lstm(data, target_column, look_back)\n",
    "    X = np.reshape(X, (X.shape[0], X.shape[1], 1))\n",
    "\n",
    "    model = create_lstm_model(look_back)\n",
    "    model.fit(X, Y, epochs=epochs, batch_size=batch_size, verbose=2)\n",
    "    \n",
    "    # Save the trained model\n",
    "    model.save('time_series_testing_model/trained_model.h5')\n",
    "    \n",
    "    # Save the scaler object\n",
    "    joblib.dump(scaler, 'time_series_testing_model/scaler.pkl')\n",
    "\n",
    "# Train and save the model\n",
    "train_and_save_model(data, target_column=target_column, look_back=1, epochs=10, batch_size=1)\n"
   ]
  },
  {
   "cell_type": "markdown",
   "id": "bf032aa6",
   "metadata": {},
   "source": [
    "# With label Encodder"
   ]
  },
  {
   "cell_type": "code",
   "execution_count": null,
   "id": "b369c2e3",
   "metadata": {},
   "outputs": [],
   "source": [
    "import pandas as pd\n",
    "import numpy as np\n",
    "from sklearn.preprocessing import MinMaxScaler, LabelEncoder\n",
    "import tensorflow as tf\n",
    "from tensorflow.keras.models import Sequential\n",
    "from tensorflow.keras.layers import LSTM, Dense\n",
    "import joblib\n",
    "\n",
    "# Load the dataset\n",
    "file_path = input(\"Enter the file path of the dataset: \")\n",
    "data = pd.read_csv(file_path)\n",
    "\n",
    "# Prompt user to input the time series column\n",
    "time_series_column = input(\"Enter the time series column: \")\n",
    "\n",
    "# Prompt user to input the target column\n",
    "target_column = input(\"Enter the target column: \")\n",
    "\n",
    "# Convert the time series column to datetime\n",
    "data[time_series_column] = pd.to_datetime(data[time_series_column], errors='coerce')\n",
    "\n",
    "# Remove the time series column before setting it as the index\n",
    "data.set_index(time_series_column, inplace=True)\n",
    "\n",
    "# Function to handle categorical data using Label Encoding\n",
    "def handle_categorical_data(data):\n",
    "    categorical_columns = data.select_dtypes(include=['object']).columns\n",
    "    label_encoders = {}\n",
    "    if len(categorical_columns) > 0:\n",
    "        for column in categorical_columns:\n",
    "            label_encoder = LabelEncoder()\n",
    "            data[column] = label_encoder.fit_transform(data[column])\n",
    "            label_encoders[column] = label_encoder\n",
    "    return data, label_encoders\n",
    "\n",
    "# Handle categorical data and get label encoders\n",
    "data, label_encoders = handle_categorical_data(data)\n",
    "\n",
    "# Function to prepare data for LSTM\n",
    "def prepare_data_for_lstm(data, target_column, look_back=1):\n",
    "    scaler = MinMaxScaler(feature_range=(0, 1))\n",
    "    dataset = scaler.fit_transform(data[[target_column]])\n",
    "\n",
    "    X, Y = [], []\n",
    "    for i in range(len(dataset) - look_back):\n",
    "        X.append(dataset[i:(i + look_back), 0])\n",
    "        Y.append(dataset[i + look_back, 0])\n",
    "    return np.array(X), np.array(Y), scaler\n",
    "\n",
    "# Function to create LSTM model\n",
    "def create_lstm_model(look_back):\n",
    "    model = Sequential()\n",
    "    model.add(LSTM(units=50, input_shape=(look_back, 1)))\n",
    "    model.add(Dense(units=1))\n",
    "    model.compile(optimizer='adam', loss='mean_squared_error')\n",
    "    return model\n",
    "\n",
    "# Function to train and save LSTM model\n",
    "def train_and_save_model(data, target_column, look_back=1, epochs=10, batch_size=1):\n",
    "    X, Y, scaler = prepare_data_for_lstm(data, target_column, look_back)\n",
    "    X = np.reshape(X, (X.shape[0], X.shape[1], 1))\n",
    "\n",
    "    model = create_lstm_model(look_back)\n",
    "    model.fit(X, Y, epochs=epochs, batch_size=batch_size, verbose=2)\n",
    "    \n",
    "    # Save the trained model\n",
    "    model.save('time_series_testing_model/trained_model.h5')\n",
    "    \n",
    "    # Save the scaler object\n",
    "    joblib.dump(scaler, 'time_series_testing_model/scaler.pkl')\n",
    "    \n",
    "    # Save the label encoders\n",
    "    joblib.dump(label_encoders, 'time_series_testing_model/label_encoders.pkl')\n",
    "\n",
    "# Train and save the model\n",
    "train_and_save_model(data, target_column=target_column, look_back=1, epochs=10, batch_size=1)\n"
   ]
  },
  {
   "cell_type": "code",
   "execution_count": null,
   "id": "bedd5302",
   "metadata": {},
   "outputs": [],
   "source": []
  }
 ],
 "metadata": {
  "kernelspec": {
   "display_name": "Python 3 (ipykernel)",
   "language": "python",
   "name": "python3"
  },
  "language_info": {
   "codemirror_mode": {
    "name": "ipython",
    "version": 3
   },
   "file_extension": ".py",
   "mimetype": "text/x-python",
   "name": "python",
   "nbconvert_exporter": "python",
   "pygments_lexer": "ipython3",
   "version": "3.9.16"
  }
 },
 "nbformat": 4,
 "nbformat_minor": 5
}
